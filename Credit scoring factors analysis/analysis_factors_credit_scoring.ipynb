{
 "cells": [
  {
   "cell_type": "markdown",
   "metadata": {},
   "source": [
    "# Menganalisis Risiko Gagal Bayar Peminjam\n",
    "\n",
    "Tugas Anda adalah menyiapkan laporan untuk divisi kredit suatu bank. Anda akan mencari tahu pengaruh status perkawinan seorang nasabah dan jumlah anak yang dimilikinya terhadap probabilitas gagal bayar dalam pelunasan pinjaman. Pihak bank sudah memiliki beberapa data mengenai kelayakan kredit nasabah.\n",
    "\n",
    "Laporan Anda akan dipertimbangkan pada saat membuat **penilaian kredit** untuk calon nasabah. **Penilaian kredit** digunakan untuk mengevaluasi kemampuan calon peminjam untuk melunasi pinjaman mereka."
   ]
  },
  {
   "cell_type": "markdown",
   "metadata": {},
   "source": [
    "# Tujuan proyek\n",
    "1. Mengetahui pengaruh status perkawinan dan jumlah anak nasabah terhadap ketepatan waktu pelunasan pinjaman.\n",
    "2. Mengetahui pengaruh tingkat pendapatan nasabah terhadap ketepatan waktu pelunasan pinjaman.\n",
    "3. Mengetahui pengaruh tujuan peminjaman terhadap ketepatan waktu pelunasan pinjaman.\n",
    "\n",
    "Penemuan dari proyek ini dapat digunakan untuk menentukan *credit scoring* nasabah.\n",
    "\n",
    "# Hipotesis\n",
    "1. Status perkawinan dan jumlah anak nasabah berpengaruh kepada ketepatan waktu pelunasan pinjaman.\n",
    "Keberadaan tanggungan (pasangan dan/atau anak) dalam keluarga nasabah diduga akan meningkatkan kemungkinan terlambatnya pelunasan. Hal ini terjadi karena keberadaan tanggungan dapat meningkatkan kemungkinan pemakaian pinjaman untuk tujuan lain. Tujuan lain yang dimaksud adalah tujuan yang 1) berbeda dari tujuan awal peminjaman, yang 2) disebabkan oleh kebutuhan pasangan dan/atau anak.\n",
    "\n",
    "2. Tingkat pendapatan nasabah berpengaruh kepada ketepatan waktu pelunasan pinjaman.\n",
    "Nasabah dengan pendapatan yang tinggi diduga akan lebih mudah melunasi pinjaman. Nasabah berpendapatan tinggi diduga 1) memiliki lebih banyak dana yang bisa disisihkan untuk melunasi pinjaman, 2) dapat menghasilkan dana tsb. dengan lebih cepat dibandingkan dengan nasabah berpendapatan rendah.\n",
    "\n",
    "3. Tujuan peminjaman berpengaruh kepada ketepatan waktu pelunasan pinjaman."
   ]
  },
  {
   "cell_type": "markdown",
   "metadata": {},
   "source": [
    "## Buka *file* data dan baca informasi umumnya.\n"
   ]
  },
  {
   "cell_type": "code",
   "execution_count": 1,
   "metadata": {},
   "outputs": [],
   "source": [
    "# Muat semua *library*\n",
    "import pandas as pd\n",
    "\n",
    "\n",
    "# Muat datanya\n",
    "data = pd.read_csv('/datasets/credit_scoring_eng.csv')\n"
   ]
  },
  {
   "cell_type": "markdown",
   "metadata": {},
   "source": [
    "## Soal 1. Eksplorasi data\n",
    "\n",
    "**Deskripsi Data**\n",
    "- `children` - jumlah anak dalam keluarga\n",
    "- `days_employed` - pengalaman kerja nasabah dalam hari\n",
    "- `dob_years` - usia nasabah dalam tahun\n",
    "- `education` - tingkat pendidikan nasabah\n",
    "- `education_id` - pengidentifikasi untuk tingkat pendidikan nasabah\n",
    "- `family_status` - pengidentifikasi untuk status perkawinan nasabah\n",
    "- `family_status_id` - tanda pengenal status perkawinan\n",
    "- `gender` - jenis kelamin nasabah\n",
    "- `income_type` - jenis pekerjaan\n",
    "- `debt` - apakah nasabah memiliki hutang pembayaran pinjaman\n",
    "- `total_income` - pendapatan bulanan\n",
    "- `purpose` - tujuan mendapatkan pinjaman\n"
   ]
  },
  {
   "cell_type": "code",
   "execution_count": 2,
   "metadata": {},
   "outputs": [
    {
     "data": {
      "text/plain": [
       "(21525, 12)"
      ]
     },
     "execution_count": 2,
     "metadata": {},
     "output_type": "execute_result"
    }
   ],
   "source": [
    "# Mari kita lihat berapa banyak baris dan kolom yang dimiliki oleh dataset kita\n",
    "data.shape\n"
   ]
  },
  {
   "cell_type": "markdown",
   "metadata": {},
   "source": [
    "Jumlah kolom sesuai dengan dokumentasi (12) dalam 21.525 baris."
   ]
  },
  {
   "cell_type": "code",
   "execution_count": 3,
   "metadata": {
    "scrolled": true
   },
   "outputs": [
    {
     "data": {
      "text/html": [
       "<div>\n",
       "<style scoped>\n",
       "    .dataframe tbody tr th:only-of-type {\n",
       "        vertical-align: middle;\n",
       "    }\n",
       "\n",
       "    .dataframe tbody tr th {\n",
       "        vertical-align: top;\n",
       "    }\n",
       "\n",
       "    .dataframe thead th {\n",
       "        text-align: right;\n",
       "    }\n",
       "</style>\n",
       "<table border=\"1\" class=\"dataframe\">\n",
       "  <thead>\n",
       "    <tr style=\"text-align: right;\">\n",
       "      <th></th>\n",
       "      <th>children</th>\n",
       "      <th>days_employed</th>\n",
       "      <th>dob_years</th>\n",
       "      <th>education</th>\n",
       "      <th>education_id</th>\n",
       "      <th>family_status</th>\n",
       "      <th>family_status_id</th>\n",
       "      <th>gender</th>\n",
       "      <th>income_type</th>\n",
       "      <th>debt</th>\n",
       "      <th>total_income</th>\n",
       "      <th>purpose</th>\n",
       "    </tr>\n",
       "  </thead>\n",
       "  <tbody>\n",
       "    <tr>\n",
       "      <th>0</th>\n",
       "      <td>1</td>\n",
       "      <td>-8437.673028</td>\n",
       "      <td>42</td>\n",
       "      <td>bachelor's degree</td>\n",
       "      <td>0</td>\n",
       "      <td>married</td>\n",
       "      <td>0</td>\n",
       "      <td>F</td>\n",
       "      <td>employee</td>\n",
       "      <td>0</td>\n",
       "      <td>40620.102</td>\n",
       "      <td>purchase of the house</td>\n",
       "    </tr>\n",
       "    <tr>\n",
       "      <th>1</th>\n",
       "      <td>1</td>\n",
       "      <td>-4024.803754</td>\n",
       "      <td>36</td>\n",
       "      <td>secondary education</td>\n",
       "      <td>1</td>\n",
       "      <td>married</td>\n",
       "      <td>0</td>\n",
       "      <td>F</td>\n",
       "      <td>employee</td>\n",
       "      <td>0</td>\n",
       "      <td>17932.802</td>\n",
       "      <td>car purchase</td>\n",
       "    </tr>\n",
       "    <tr>\n",
       "      <th>2</th>\n",
       "      <td>0</td>\n",
       "      <td>-5623.422610</td>\n",
       "      <td>33</td>\n",
       "      <td>Secondary Education</td>\n",
       "      <td>1</td>\n",
       "      <td>married</td>\n",
       "      <td>0</td>\n",
       "      <td>M</td>\n",
       "      <td>employee</td>\n",
       "      <td>0</td>\n",
       "      <td>23341.752</td>\n",
       "      <td>purchase of the house</td>\n",
       "    </tr>\n",
       "    <tr>\n",
       "      <th>3</th>\n",
       "      <td>3</td>\n",
       "      <td>-4124.747207</td>\n",
       "      <td>32</td>\n",
       "      <td>secondary education</td>\n",
       "      <td>1</td>\n",
       "      <td>married</td>\n",
       "      <td>0</td>\n",
       "      <td>M</td>\n",
       "      <td>employee</td>\n",
       "      <td>0</td>\n",
       "      <td>42820.568</td>\n",
       "      <td>supplementary education</td>\n",
       "    </tr>\n",
       "    <tr>\n",
       "      <th>4</th>\n",
       "      <td>0</td>\n",
       "      <td>340266.072047</td>\n",
       "      <td>53</td>\n",
       "      <td>secondary education</td>\n",
       "      <td>1</td>\n",
       "      <td>civil partnership</td>\n",
       "      <td>1</td>\n",
       "      <td>F</td>\n",
       "      <td>retiree</td>\n",
       "      <td>0</td>\n",
       "      <td>25378.572</td>\n",
       "      <td>to have a wedding</td>\n",
       "    </tr>\n",
       "    <tr>\n",
       "      <th>5</th>\n",
       "      <td>0</td>\n",
       "      <td>-926.185831</td>\n",
       "      <td>27</td>\n",
       "      <td>bachelor's degree</td>\n",
       "      <td>0</td>\n",
       "      <td>civil partnership</td>\n",
       "      <td>1</td>\n",
       "      <td>M</td>\n",
       "      <td>business</td>\n",
       "      <td>0</td>\n",
       "      <td>40922.170</td>\n",
       "      <td>purchase of the house</td>\n",
       "    </tr>\n",
       "    <tr>\n",
       "      <th>6</th>\n",
       "      <td>0</td>\n",
       "      <td>-2879.202052</td>\n",
       "      <td>43</td>\n",
       "      <td>bachelor's degree</td>\n",
       "      <td>0</td>\n",
       "      <td>married</td>\n",
       "      <td>0</td>\n",
       "      <td>F</td>\n",
       "      <td>business</td>\n",
       "      <td>0</td>\n",
       "      <td>38484.156</td>\n",
       "      <td>housing transactions</td>\n",
       "    </tr>\n",
       "    <tr>\n",
       "      <th>7</th>\n",
       "      <td>0</td>\n",
       "      <td>-152.779569</td>\n",
       "      <td>50</td>\n",
       "      <td>SECONDARY EDUCATION</td>\n",
       "      <td>1</td>\n",
       "      <td>married</td>\n",
       "      <td>0</td>\n",
       "      <td>M</td>\n",
       "      <td>employee</td>\n",
       "      <td>0</td>\n",
       "      <td>21731.829</td>\n",
       "      <td>education</td>\n",
       "    </tr>\n",
       "    <tr>\n",
       "      <th>8</th>\n",
       "      <td>2</td>\n",
       "      <td>-6929.865299</td>\n",
       "      <td>35</td>\n",
       "      <td>BACHELOR'S DEGREE</td>\n",
       "      <td>0</td>\n",
       "      <td>civil partnership</td>\n",
       "      <td>1</td>\n",
       "      <td>F</td>\n",
       "      <td>employee</td>\n",
       "      <td>0</td>\n",
       "      <td>15337.093</td>\n",
       "      <td>having a wedding</td>\n",
       "    </tr>\n",
       "    <tr>\n",
       "      <th>9</th>\n",
       "      <td>0</td>\n",
       "      <td>-2188.756445</td>\n",
       "      <td>41</td>\n",
       "      <td>secondary education</td>\n",
       "      <td>1</td>\n",
       "      <td>married</td>\n",
       "      <td>0</td>\n",
       "      <td>M</td>\n",
       "      <td>employee</td>\n",
       "      <td>0</td>\n",
       "      <td>23108.150</td>\n",
       "      <td>purchase of the house for my family</td>\n",
       "    </tr>\n",
       "    <tr>\n",
       "      <th>10</th>\n",
       "      <td>2</td>\n",
       "      <td>-4171.483647</td>\n",
       "      <td>36</td>\n",
       "      <td>bachelor's degree</td>\n",
       "      <td>0</td>\n",
       "      <td>married</td>\n",
       "      <td>0</td>\n",
       "      <td>M</td>\n",
       "      <td>business</td>\n",
       "      <td>0</td>\n",
       "      <td>18230.959</td>\n",
       "      <td>buy real estate</td>\n",
       "    </tr>\n",
       "    <tr>\n",
       "      <th>11</th>\n",
       "      <td>0</td>\n",
       "      <td>-792.701887</td>\n",
       "      <td>40</td>\n",
       "      <td>secondary education</td>\n",
       "      <td>1</td>\n",
       "      <td>married</td>\n",
       "      <td>0</td>\n",
       "      <td>F</td>\n",
       "      <td>employee</td>\n",
       "      <td>0</td>\n",
       "      <td>12331.077</td>\n",
       "      <td>buy commercial real estate</td>\n",
       "    </tr>\n",
       "    <tr>\n",
       "      <th>12</th>\n",
       "      <td>0</td>\n",
       "      <td>NaN</td>\n",
       "      <td>65</td>\n",
       "      <td>secondary education</td>\n",
       "      <td>1</td>\n",
       "      <td>civil partnership</td>\n",
       "      <td>1</td>\n",
       "      <td>M</td>\n",
       "      <td>retiree</td>\n",
       "      <td>0</td>\n",
       "      <td>NaN</td>\n",
       "      <td>to have a wedding</td>\n",
       "    </tr>\n",
       "    <tr>\n",
       "      <th>13</th>\n",
       "      <td>0</td>\n",
       "      <td>-1846.641941</td>\n",
       "      <td>54</td>\n",
       "      <td>some college</td>\n",
       "      <td>2</td>\n",
       "      <td>married</td>\n",
       "      <td>0</td>\n",
       "      <td>F</td>\n",
       "      <td>employee</td>\n",
       "      <td>0</td>\n",
       "      <td>20873.317</td>\n",
       "      <td>car purchase</td>\n",
       "    </tr>\n",
       "    <tr>\n",
       "      <th>14</th>\n",
       "      <td>0</td>\n",
       "      <td>-1844.956182</td>\n",
       "      <td>56</td>\n",
       "      <td>bachelor's degree</td>\n",
       "      <td>0</td>\n",
       "      <td>civil partnership</td>\n",
       "      <td>1</td>\n",
       "      <td>F</td>\n",
       "      <td>business</td>\n",
       "      <td>1</td>\n",
       "      <td>26420.466</td>\n",
       "      <td>buy residential real estate</td>\n",
       "    </tr>\n",
       "    <tr>\n",
       "      <th>15</th>\n",
       "      <td>1</td>\n",
       "      <td>-972.364419</td>\n",
       "      <td>26</td>\n",
       "      <td>secondary education</td>\n",
       "      <td>1</td>\n",
       "      <td>married</td>\n",
       "      <td>0</td>\n",
       "      <td>F</td>\n",
       "      <td>employee</td>\n",
       "      <td>0</td>\n",
       "      <td>18691.345</td>\n",
       "      <td>construction of own property</td>\n",
       "    </tr>\n",
       "    <tr>\n",
       "      <th>16</th>\n",
       "      <td>0</td>\n",
       "      <td>-1719.934226</td>\n",
       "      <td>35</td>\n",
       "      <td>secondary education</td>\n",
       "      <td>1</td>\n",
       "      <td>married</td>\n",
       "      <td>0</td>\n",
       "      <td>F</td>\n",
       "      <td>employee</td>\n",
       "      <td>0</td>\n",
       "      <td>46272.433</td>\n",
       "      <td>property</td>\n",
       "    </tr>\n",
       "    <tr>\n",
       "      <th>17</th>\n",
       "      <td>0</td>\n",
       "      <td>-2369.999720</td>\n",
       "      <td>33</td>\n",
       "      <td>bachelor's degree</td>\n",
       "      <td>0</td>\n",
       "      <td>civil partnership</td>\n",
       "      <td>1</td>\n",
       "      <td>M</td>\n",
       "      <td>employee</td>\n",
       "      <td>0</td>\n",
       "      <td>14465.694</td>\n",
       "      <td>building a property</td>\n",
       "    </tr>\n",
       "    <tr>\n",
       "      <th>18</th>\n",
       "      <td>0</td>\n",
       "      <td>400281.136913</td>\n",
       "      <td>53</td>\n",
       "      <td>secondary education</td>\n",
       "      <td>1</td>\n",
       "      <td>widow / widower</td>\n",
       "      <td>2</td>\n",
       "      <td>F</td>\n",
       "      <td>retiree</td>\n",
       "      <td>0</td>\n",
       "      <td>9091.804</td>\n",
       "      <td>buying a second-hand car</td>\n",
       "    </tr>\n",
       "    <tr>\n",
       "      <th>19</th>\n",
       "      <td>0</td>\n",
       "      <td>-10038.818549</td>\n",
       "      <td>48</td>\n",
       "      <td>SECONDARY EDUCATION</td>\n",
       "      <td>1</td>\n",
       "      <td>divorced</td>\n",
       "      <td>3</td>\n",
       "      <td>F</td>\n",
       "      <td>employee</td>\n",
       "      <td>0</td>\n",
       "      <td>38852.977</td>\n",
       "      <td>buying my own car</td>\n",
       "    </tr>\n",
       "  </tbody>\n",
       "</table>\n",
       "</div>"
      ],
      "text/plain": [
       "    children  days_employed  dob_years            education  education_id  \\\n",
       "0          1   -8437.673028         42    bachelor's degree             0   \n",
       "1          1   -4024.803754         36  secondary education             1   \n",
       "2          0   -5623.422610         33  Secondary Education             1   \n",
       "3          3   -4124.747207         32  secondary education             1   \n",
       "4          0  340266.072047         53  secondary education             1   \n",
       "5          0    -926.185831         27    bachelor's degree             0   \n",
       "6          0   -2879.202052         43    bachelor's degree             0   \n",
       "7          0    -152.779569         50  SECONDARY EDUCATION             1   \n",
       "8          2   -6929.865299         35    BACHELOR'S DEGREE             0   \n",
       "9          0   -2188.756445         41  secondary education             1   \n",
       "10         2   -4171.483647         36    bachelor's degree             0   \n",
       "11         0    -792.701887         40  secondary education             1   \n",
       "12         0            NaN         65  secondary education             1   \n",
       "13         0   -1846.641941         54         some college             2   \n",
       "14         0   -1844.956182         56    bachelor's degree             0   \n",
       "15         1    -972.364419         26  secondary education             1   \n",
       "16         0   -1719.934226         35  secondary education             1   \n",
       "17         0   -2369.999720         33    bachelor's degree             0   \n",
       "18         0  400281.136913         53  secondary education             1   \n",
       "19         0  -10038.818549         48  SECONDARY EDUCATION             1   \n",
       "\n",
       "        family_status  family_status_id gender income_type  debt  \\\n",
       "0             married                 0      F    employee     0   \n",
       "1             married                 0      F    employee     0   \n",
       "2             married                 0      M    employee     0   \n",
       "3             married                 0      M    employee     0   \n",
       "4   civil partnership                 1      F     retiree     0   \n",
       "5   civil partnership                 1      M    business     0   \n",
       "6             married                 0      F    business     0   \n",
       "7             married                 0      M    employee     0   \n",
       "8   civil partnership                 1      F    employee     0   \n",
       "9             married                 0      M    employee     0   \n",
       "10            married                 0      M    business     0   \n",
       "11            married                 0      F    employee     0   \n",
       "12  civil partnership                 1      M     retiree     0   \n",
       "13            married                 0      F    employee     0   \n",
       "14  civil partnership                 1      F    business     1   \n",
       "15            married                 0      F    employee     0   \n",
       "16            married                 0      F    employee     0   \n",
       "17  civil partnership                 1      M    employee     0   \n",
       "18    widow / widower                 2      F     retiree     0   \n",
       "19           divorced                 3      F    employee     0   \n",
       "\n",
       "    total_income                              purpose  \n",
       "0      40620.102                purchase of the house  \n",
       "1      17932.802                         car purchase  \n",
       "2      23341.752                purchase of the house  \n",
       "3      42820.568              supplementary education  \n",
       "4      25378.572                    to have a wedding  \n",
       "5      40922.170                purchase of the house  \n",
       "6      38484.156                 housing transactions  \n",
       "7      21731.829                            education  \n",
       "8      15337.093                     having a wedding  \n",
       "9      23108.150  purchase of the house for my family  \n",
       "10     18230.959                      buy real estate  \n",
       "11     12331.077           buy commercial real estate  \n",
       "12           NaN                    to have a wedding  \n",
       "13     20873.317                         car purchase  \n",
       "14     26420.466          buy residential real estate  \n",
       "15     18691.345         construction of own property  \n",
       "16     46272.433                             property  \n",
       "17     14465.694                  building a property  \n",
       "18      9091.804             buying a second-hand car  \n",
       "19     38852.977                    buying my own car  "
      ]
     },
     "execution_count": 3,
     "metadata": {},
     "output_type": "execute_result"
    }
   ],
   "source": [
    "# Mari tampilkan N baris pertama\n",
    "data.head(20)\n"
   ]
  },
  {
   "cell_type": "markdown",
   "metadata": {},
   "source": [
    "**Mengecek nilai yang tidak masuk akal dalam data:**"
   ]
  },
  {
   "cell_type": "code",
   "execution_count": 4,
   "metadata": {},
   "outputs": [
    {
     "name": "stdout",
     "output_type": "stream",
     "text": [
      "[ 1  0  3  2 -1  4 20  5]\n",
      "[0]\n",
      "[\"bachelor's degree\" 'secondary education' 'Secondary Education'\n",
      " 'SECONDARY EDUCATION' \"BACHELOR'S DEGREE\" 'some college'\n",
      " 'primary education' \"Bachelor's Degree\" 'SOME COLLEGE' 'Some College'\n",
      " 'PRIMARY EDUCATION' 'Primary Education' 'Graduate Degree'\n",
      " 'GRADUATE DEGREE' 'graduate degree']\n",
      "['married' 'civil partnership' 'widow / widower' 'divorced' 'unmarried']\n",
      "['F' 'M' 'XNA']\n",
      "['employee' 'retiree' 'business' 'civil servant' 'unemployed'\n",
      " 'entrepreneur' 'student' 'paternity / maternity leave']\n"
     ]
    }
   ],
   "source": [
    "# Kolom yang dicek adalah kolom yang nilainya memiliki tingkat keunikan rendah dan independen (bukan merupakan identifier)\n",
    "\n",
    "print(data['children'].unique())\n",
    "print(data[data['dob_years'] < 18]['dob_years'].unique()) \n",
    "# Usia 18 menjadi filter karena merupakan usia dewasa secara legal.\n",
    "# Anak-anak di bawah usia 18 tahun seharusnya tidak akan bisa mendapatkan pinjaman.\n",
    "print(data['education'].unique())\n",
    "print(data['family_status'].unique())\n",
    "print(data['gender'].unique())\n",
    "print(data['income_type'].unique())"
   ]
  },
  {
   "cell_type": "code",
   "execution_count": 5,
   "metadata": {
    "scrolled": true
   },
   "outputs": [
    {
     "name": "stdout",
     "output_type": "stream",
     "text": [
      "(47, 12)\n",
      "(76, 12)\n"
     ]
    }
   ],
   "source": [
    "# Menyelidiki data dengan jumlah anak negatif dan meragukan\n",
    "print(data[data['children'] == -1].shape)\n",
    "print(data[data['children'] == 20].shape)\n"
   ]
  },
  {
   "cell_type": "code",
   "execution_count": 6,
   "metadata": {
    "scrolled": true
   },
   "outputs": [
    {
     "data": {
      "text/html": [
       "<div>\n",
       "<style scoped>\n",
       "    .dataframe tbody tr th:only-of-type {\n",
       "        vertical-align: middle;\n",
       "    }\n",
       "\n",
       "    .dataframe tbody tr th {\n",
       "        vertical-align: top;\n",
       "    }\n",
       "\n",
       "    .dataframe thead th {\n",
       "        text-align: right;\n",
       "    }\n",
       "</style>\n",
       "<table border=\"1\" class=\"dataframe\">\n",
       "  <thead>\n",
       "    <tr style=\"text-align: right;\">\n",
       "      <th></th>\n",
       "      <th>children</th>\n",
       "      <th>days_employed</th>\n",
       "      <th>dob_years</th>\n",
       "      <th>education</th>\n",
       "      <th>education_id</th>\n",
       "      <th>family_status</th>\n",
       "      <th>family_status_id</th>\n",
       "      <th>gender</th>\n",
       "      <th>income_type</th>\n",
       "      <th>debt</th>\n",
       "      <th>total_income</th>\n",
       "      <th>purpose</th>\n",
       "    </tr>\n",
       "  </thead>\n",
       "  <tbody>\n",
       "    <tr>\n",
       "      <th>99</th>\n",
       "      <td>0</td>\n",
       "      <td>346541.618895</td>\n",
       "      <td>0</td>\n",
       "      <td>Secondary Education</td>\n",
       "      <td>1</td>\n",
       "      <td>married</td>\n",
       "      <td>0</td>\n",
       "      <td>F</td>\n",
       "      <td>retiree</td>\n",
       "      <td>0</td>\n",
       "      <td>11406.644</td>\n",
       "      <td>car</td>\n",
       "    </tr>\n",
       "    <tr>\n",
       "      <th>149</th>\n",
       "      <td>0</td>\n",
       "      <td>-2664.273168</td>\n",
       "      <td>0</td>\n",
       "      <td>secondary education</td>\n",
       "      <td>1</td>\n",
       "      <td>divorced</td>\n",
       "      <td>3</td>\n",
       "      <td>F</td>\n",
       "      <td>employee</td>\n",
       "      <td>0</td>\n",
       "      <td>11228.230</td>\n",
       "      <td>housing transactions</td>\n",
       "    </tr>\n",
       "    <tr>\n",
       "      <th>270</th>\n",
       "      <td>3</td>\n",
       "      <td>-1872.663186</td>\n",
       "      <td>0</td>\n",
       "      <td>secondary education</td>\n",
       "      <td>1</td>\n",
       "      <td>married</td>\n",
       "      <td>0</td>\n",
       "      <td>F</td>\n",
       "      <td>employee</td>\n",
       "      <td>0</td>\n",
       "      <td>16346.633</td>\n",
       "      <td>housing renovation</td>\n",
       "    </tr>\n",
       "    <tr>\n",
       "      <th>578</th>\n",
       "      <td>0</td>\n",
       "      <td>397856.565013</td>\n",
       "      <td>0</td>\n",
       "      <td>secondary education</td>\n",
       "      <td>1</td>\n",
       "      <td>married</td>\n",
       "      <td>0</td>\n",
       "      <td>F</td>\n",
       "      <td>retiree</td>\n",
       "      <td>0</td>\n",
       "      <td>15619.310</td>\n",
       "      <td>construction of own property</td>\n",
       "    </tr>\n",
       "    <tr>\n",
       "      <th>1040</th>\n",
       "      <td>0</td>\n",
       "      <td>-1158.029561</td>\n",
       "      <td>0</td>\n",
       "      <td>bachelor's degree</td>\n",
       "      <td>0</td>\n",
       "      <td>divorced</td>\n",
       "      <td>3</td>\n",
       "      <td>F</td>\n",
       "      <td>business</td>\n",
       "      <td>0</td>\n",
       "      <td>48639.062</td>\n",
       "      <td>to own a car</td>\n",
       "    </tr>\n",
       "    <tr>\n",
       "      <th>...</th>\n",
       "      <td>...</td>\n",
       "      <td>...</td>\n",
       "      <td>...</td>\n",
       "      <td>...</td>\n",
       "      <td>...</td>\n",
       "      <td>...</td>\n",
       "      <td>...</td>\n",
       "      <td>...</td>\n",
       "      <td>...</td>\n",
       "      <td>...</td>\n",
       "      <td>...</td>\n",
       "      <td>...</td>\n",
       "    </tr>\n",
       "    <tr>\n",
       "      <th>19829</th>\n",
       "      <td>0</td>\n",
       "      <td>NaN</td>\n",
       "      <td>0</td>\n",
       "      <td>secondary education</td>\n",
       "      <td>1</td>\n",
       "      <td>married</td>\n",
       "      <td>0</td>\n",
       "      <td>F</td>\n",
       "      <td>employee</td>\n",
       "      <td>0</td>\n",
       "      <td>NaN</td>\n",
       "      <td>housing</td>\n",
       "    </tr>\n",
       "    <tr>\n",
       "      <th>20462</th>\n",
       "      <td>0</td>\n",
       "      <td>338734.868540</td>\n",
       "      <td>0</td>\n",
       "      <td>secondary education</td>\n",
       "      <td>1</td>\n",
       "      <td>married</td>\n",
       "      <td>0</td>\n",
       "      <td>F</td>\n",
       "      <td>retiree</td>\n",
       "      <td>0</td>\n",
       "      <td>41471.027</td>\n",
       "      <td>purchase of my own house</td>\n",
       "    </tr>\n",
       "    <tr>\n",
       "      <th>20577</th>\n",
       "      <td>0</td>\n",
       "      <td>331741.271455</td>\n",
       "      <td>0</td>\n",
       "      <td>secondary education</td>\n",
       "      <td>1</td>\n",
       "      <td>unmarried</td>\n",
       "      <td>4</td>\n",
       "      <td>F</td>\n",
       "      <td>retiree</td>\n",
       "      <td>0</td>\n",
       "      <td>20766.202</td>\n",
       "      <td>property</td>\n",
       "    </tr>\n",
       "    <tr>\n",
       "      <th>21179</th>\n",
       "      <td>2</td>\n",
       "      <td>-108.967042</td>\n",
       "      <td>0</td>\n",
       "      <td>bachelor's degree</td>\n",
       "      <td>0</td>\n",
       "      <td>married</td>\n",
       "      <td>0</td>\n",
       "      <td>M</td>\n",
       "      <td>business</td>\n",
       "      <td>0</td>\n",
       "      <td>38512.321</td>\n",
       "      <td>building a real estate</td>\n",
       "    </tr>\n",
       "    <tr>\n",
       "      <th>21313</th>\n",
       "      <td>0</td>\n",
       "      <td>-1268.487728</td>\n",
       "      <td>0</td>\n",
       "      <td>secondary education</td>\n",
       "      <td>1</td>\n",
       "      <td>unmarried</td>\n",
       "      <td>4</td>\n",
       "      <td>M</td>\n",
       "      <td>employee</td>\n",
       "      <td>0</td>\n",
       "      <td>24387.070</td>\n",
       "      <td>housing transactions</td>\n",
       "    </tr>\n",
       "  </tbody>\n",
       "</table>\n",
       "<p>101 rows × 12 columns</p>\n",
       "</div>"
      ],
      "text/plain": [
       "       children  days_employed  dob_years            education  education_id  \\\n",
       "99            0  346541.618895          0  Secondary Education             1   \n",
       "149           0   -2664.273168          0  secondary education             1   \n",
       "270           3   -1872.663186          0  secondary education             1   \n",
       "578           0  397856.565013          0  secondary education             1   \n",
       "1040          0   -1158.029561          0    bachelor's degree             0   \n",
       "...         ...            ...        ...                  ...           ...   \n",
       "19829         0            NaN          0  secondary education             1   \n",
       "20462         0  338734.868540          0  secondary education             1   \n",
       "20577         0  331741.271455          0  secondary education             1   \n",
       "21179         2    -108.967042          0    bachelor's degree             0   \n",
       "21313         0   -1268.487728          0  secondary education             1   \n",
       "\n",
       "      family_status  family_status_id gender income_type  debt  total_income  \\\n",
       "99          married                 0      F     retiree     0     11406.644   \n",
       "149        divorced                 3      F    employee     0     11228.230   \n",
       "270         married                 0      F    employee     0     16346.633   \n",
       "578         married                 0      F     retiree     0     15619.310   \n",
       "1040       divorced                 3      F    business     0     48639.062   \n",
       "...             ...               ...    ...         ...   ...           ...   \n",
       "19829       married                 0      F    employee     0           NaN   \n",
       "20462       married                 0      F     retiree     0     41471.027   \n",
       "20577     unmarried                 4      F     retiree     0     20766.202   \n",
       "21179       married                 0      M    business     0     38512.321   \n",
       "21313     unmarried                 4      M    employee     0     24387.070   \n",
       "\n",
       "                            purpose  \n",
       "99                              car  \n",
       "149            housing transactions  \n",
       "270              housing renovation  \n",
       "578    construction of own property  \n",
       "1040                   to own a car  \n",
       "...                             ...  \n",
       "19829                       housing  \n",
       "20462      purchase of my own house  \n",
       "20577                      property  \n",
       "21179        building a real estate  \n",
       "21313          housing transactions  \n",
       "\n",
       "[101 rows x 12 columns]"
      ]
     },
     "execution_count": 6,
     "metadata": {},
     "output_type": "execute_result"
    }
   ],
   "source": [
    "# Menyelidiki data dengan umur 0\n",
    "data[data['dob_years'] == 0]"
   ]
  },
  {
   "cell_type": "code",
   "execution_count": 7,
   "metadata": {
    "scrolled": true
   },
   "outputs": [
    {
     "name": "stdout",
     "output_type": "stream",
     "text": [
      "-18388.949900568383\n",
      "401755.40047533\n",
      "-1203.369528770489\n"
     ]
    }
   ],
   "source": [
    "# Menyelidiki distribusi jumlah hari kerja\n",
    "print(data['days_employed'].min())\n",
    "print(data['days_employed'].max())\n",
    "print(data['days_employed'].median())\n"
   ]
  },
  {
   "cell_type": "markdown",
   "metadata": {},
   "source": [
    "Beberapa masalah di dalam data `credit_scoring_eng.csv`:\n",
    "1. 12 baris memiliki nilai jumlah anak negatif (`-1`) di kolom `children`, dan 76 baris memiliki jumlah anak yang diragukan (`20`).\n",
    "2. Kolom `days_employed` berisi nilai yang tidak mungkin (seperti jumlah hari kerja negatif atau melebihi usia nasabah).\n",
    "3. 101 baris memiliki nilai umur `0` di `dob_years`.\n",
    "4. Kapitalisasi data di kolom `education` tidak seragam.\n",
    "5. 2174 baris memiliki nilai `NaN` di kolom `days_employed` dan `total_income`.\n",
    "4. Nilai di kolom `purpose` mungkin akan sulit dikategorikan. Cara penyampaian tujuan yang berbeda dari nasabah ke nasabah berpotensi menyulitkan kategorisasi karena meningkatkan jumlah nilai unik."
   ]
  },
  {
   "cell_type": "code",
   "execution_count": 8,
   "metadata": {
    "scrolled": true
   },
   "outputs": [
    {
     "name": "stdout",
     "output_type": "stream",
     "text": [
      "<class 'pandas.core.frame.DataFrame'>\n",
      "RangeIndex: 21525 entries, 0 to 21524\n",
      "Data columns (total 12 columns):\n",
      " #   Column            Non-Null Count  Dtype  \n",
      "---  ------            --------------  -----  \n",
      " 0   children          21525 non-null  int64  \n",
      " 1   days_employed     19351 non-null  float64\n",
      " 2   dob_years         21525 non-null  int64  \n",
      " 3   education         21525 non-null  object \n",
      " 4   education_id      21525 non-null  int64  \n",
      " 5   family_status     21525 non-null  object \n",
      " 6   family_status_id  21525 non-null  int64  \n",
      " 7   gender            21525 non-null  object \n",
      " 8   income_type       21525 non-null  object \n",
      " 9   debt              21525 non-null  int64  \n",
      " 10  total_income      19351 non-null  float64\n",
      " 11  purpose           21525 non-null  object \n",
      "dtypes: float64(2), int64(5), object(5)\n",
      "memory usage: 2.0+ MB\n"
     ]
    }
   ],
   "source": [
    "# Dapatkan informasi data\n",
    "data.info()\n"
   ]
  },
  {
   "cell_type": "markdown",
   "metadata": {},
   "source": [
    "\n",
    "Kolom `days_employed` dan `total_income` jelas memiliki nilai yang hilang. Kolom lain bisa saja memiliki nilai hilang yang bukan tersimpan sebagai `NoneType`."
   ]
  },
  {
   "cell_type": "code",
   "execution_count": 9,
   "metadata": {
    "scrolled": true
   },
   "outputs": [
    {
     "name": "stdout",
     "output_type": "stream",
     "text": [
      "<class 'pandas.core.frame.DataFrame'>\n",
      "Int64Index: 19351 entries, 0 to 21524\n",
      "Data columns (total 12 columns):\n",
      " #   Column            Non-Null Count  Dtype  \n",
      "---  ------            --------------  -----  \n",
      " 0   children          19351 non-null  int64  \n",
      " 1   days_employed     19351 non-null  float64\n",
      " 2   dob_years         19351 non-null  int64  \n",
      " 3   education         19351 non-null  object \n",
      " 4   education_id      19351 non-null  int64  \n",
      " 5   family_status     19351 non-null  object \n",
      " 6   family_status_id  19351 non-null  int64  \n",
      " 7   gender            19351 non-null  object \n",
      " 8   income_type       19351 non-null  object \n",
      " 9   debt              19351 non-null  int64  \n",
      " 10  total_income      19351 non-null  float64\n",
      " 11  purpose           19351 non-null  object \n",
      "dtypes: float64(2), int64(5), object(5)\n",
      "memory usage: 1.9+ MB\n"
     ]
    }
   ],
   "source": [
    "# Mari kita lihat tabel yang difilter dengan nilai yang hilang di kolom pertama yang mengandung data yang hilang\n",
    "data_days_employed_no_na = data\n",
    "data_days_employed_no_na = data_days_employed_no_na[data_days_employed_no_na['days_employed'].notnull()]\n",
    "data_days_employed_no_na.info(20)"
   ]
  },
  {
   "cell_type": "code",
   "execution_count": 10,
   "metadata": {},
   "outputs": [
    {
     "name": "stdout",
     "output_type": "stream",
     "text": [
      "<class 'pandas.core.frame.DataFrame'>\n",
      "Int64Index: 19351 entries, 0 to 21524\n",
      "Data columns (total 12 columns):\n",
      " #   Column            Non-Null Count  Dtype  \n",
      "---  ------            --------------  -----  \n",
      " 0   children          19351 non-null  int64  \n",
      " 1   days_employed     19351 non-null  float64\n",
      " 2   dob_years         19351 non-null  int64  \n",
      " 3   education         19351 non-null  object \n",
      " 4   education_id      19351 non-null  int64  \n",
      " 5   family_status     19351 non-null  object \n",
      " 6   family_status_id  19351 non-null  int64  \n",
      " 7   gender            19351 non-null  object \n",
      " 8   income_type       19351 non-null  object \n",
      " 9   debt              19351 non-null  int64  \n",
      " 10  total_income      19351 non-null  float64\n",
      " 11  purpose           19351 non-null  object \n",
      "dtypes: float64(2), int64(5), object(5)\n",
      "memory usage: 1.9+ MB\n"
     ]
    }
   ],
   "source": [
    "# Mari kita terapkan beberapa kondisi untuk memfilter data dan melihat jumlah baris dalam tabel yang telah difilter.\n",
    "data_no_na = data.dropna()\n",
    "data_no_na.info()\n"
   ]
  },
  {
   "cell_type": "code",
   "execution_count": 11,
   "metadata": {},
   "outputs": [
    {
     "name": "stdout",
     "output_type": "stream",
     "text": [
      "Jumlah baris dengan nilai yang hilang: 2174\n",
      "Jumlah baris dengan nilai yang hilang di kolom days_employed: 2174\n",
      "Jumlah baris dengan nilai yang hilang di kolom total_income: 2174\n",
      "Jumlah nilai yang hilang di seluruh DataFrame: 4348\n",
      "Persentase baris yang hilang: 10%\n"
     ]
    }
   ],
   "source": [
    "# Memastikan jumlah baris dengan nilai yang hilang vs. jumlah nilai yang hilang\n",
    "\n",
    "# Jumlah baris dengan nilai yang hilang:\n",
    "print('Jumlah baris dengan nilai yang hilang: ' + str((data.shape[0]) - (data_no_na.shape[0])))\n",
    "\n",
    "# Jumlah baris dengan nilai yang hilang di kolom days_employed:\n",
    "print('Jumlah baris dengan nilai yang hilang di kolom days_employed: ' + str((data.shape[0]) - (data_days_employed_no_na.shape[0])))\n",
    "\n",
    "# Jumlah baris dengan nilai yang hilang di kolom total_income:\n",
    "data_total_income_no_na = data\n",
    "data_total_income_no_na = data_total_income_no_na[data_total_income_no_na['days_employed'].notnull()]\n",
    "print('Jumlah baris dengan nilai yang hilang di kolom total_income: ' + str((data.shape[0]) - (data_total_income_no_na.shape[0])))\n",
    "\n",
    "# Jumlah nilai yang hilang di seluruh DataFrame:\n",
    "print('Jumlah nilai yang hilang di seluruh DataFrame: ' + str(data.isna().sum().sum()))\n",
    "\n",
    "# Persentase baris yang hilang:\n",
    "missing_percentage = ((data.shape[0]) - (data_no_na.shape[0])) / (data.shape[0])\n",
    "print(f'Persentase baris yang hilang: {missing_percentage:.0%}' )\n"
   ]
  },
  {
   "cell_type": "markdown",
   "metadata": {},
   "source": [
    "**Kesimpulan sementara**\n",
    "\n",
    "Nilai yang hilang di data tampak simetris. Jumlah baris dengan nilai `NaN` di kolom `days_employed` dan kolom `total_income` sama (2174), dan jumlah nilai yang hilang di seluruh data adalah dua kali jumlah tsb. (2174 * 2 = 4348). Hal ini berarti nilai `NaN` di kolom `days_employed` akan menimbulkan nilai yang sama di kolom `total_income`. Dugaan awal penyebabnya adalah karena nasabah yang tidak bekerja (`days_employed == NaN`) tidak akan memiliki penghasilan (`total_income == NaN`), tetapi kolom `income_type` menunjukkan bahwa justru tidak ada nasabah berstatus `unemployed` yang memiliki `NaN` di kolom `days_employed`.\n",
    "\n",
    "Baris dengan nilai yang hilang mencakup 10% dari data (2174 / 21.525 * 100%), jumlah yang cukup signifikan.\n",
    "\n",
    "Hubungan antara nilai yang hilang dan nilai lain di data perlu diselidiki. Ini dapat dilakukan dengan menampilkan data dengan nilai yang hilang *saja*, lalu mencoba mencari hubungannya dengan distribusi nilai lain menggunakan fungsi `value_counts()`.\n"
   ]
  },
  {
   "cell_type": "code",
   "execution_count": 12,
   "metadata": {
    "scrolled": true
   },
   "outputs": [
    {
     "data": {
      "text/html": [
       "<div>\n",
       "<style scoped>\n",
       "    .dataframe tbody tr th:only-of-type {\n",
       "        vertical-align: middle;\n",
       "    }\n",
       "\n",
       "    .dataframe tbody tr th {\n",
       "        vertical-align: top;\n",
       "    }\n",
       "\n",
       "    .dataframe thead th {\n",
       "        text-align: right;\n",
       "    }\n",
       "</style>\n",
       "<table border=\"1\" class=\"dataframe\">\n",
       "  <thead>\n",
       "    <tr style=\"text-align: right;\">\n",
       "      <th></th>\n",
       "      <th>children</th>\n",
       "      <th>days_employed</th>\n",
       "      <th>dob_years</th>\n",
       "      <th>education</th>\n",
       "      <th>education_id</th>\n",
       "      <th>family_status</th>\n",
       "      <th>family_status_id</th>\n",
       "      <th>gender</th>\n",
       "      <th>income_type</th>\n",
       "      <th>debt</th>\n",
       "      <th>total_income</th>\n",
       "      <th>purpose</th>\n",
       "    </tr>\n",
       "  </thead>\n",
       "  <tbody>\n",
       "    <tr>\n",
       "      <th>12</th>\n",
       "      <td>0</td>\n",
       "      <td>NaN</td>\n",
       "      <td>65</td>\n",
       "      <td>secondary education</td>\n",
       "      <td>1</td>\n",
       "      <td>civil partnership</td>\n",
       "      <td>1</td>\n",
       "      <td>M</td>\n",
       "      <td>retiree</td>\n",
       "      <td>0</td>\n",
       "      <td>NaN</td>\n",
       "      <td>to have a wedding</td>\n",
       "    </tr>\n",
       "    <tr>\n",
       "      <th>26</th>\n",
       "      <td>0</td>\n",
       "      <td>NaN</td>\n",
       "      <td>41</td>\n",
       "      <td>secondary education</td>\n",
       "      <td>1</td>\n",
       "      <td>married</td>\n",
       "      <td>0</td>\n",
       "      <td>M</td>\n",
       "      <td>civil servant</td>\n",
       "      <td>0</td>\n",
       "      <td>NaN</td>\n",
       "      <td>education</td>\n",
       "    </tr>\n",
       "    <tr>\n",
       "      <th>29</th>\n",
       "      <td>0</td>\n",
       "      <td>NaN</td>\n",
       "      <td>63</td>\n",
       "      <td>secondary education</td>\n",
       "      <td>1</td>\n",
       "      <td>unmarried</td>\n",
       "      <td>4</td>\n",
       "      <td>F</td>\n",
       "      <td>retiree</td>\n",
       "      <td>0</td>\n",
       "      <td>NaN</td>\n",
       "      <td>building a real estate</td>\n",
       "    </tr>\n",
       "    <tr>\n",
       "      <th>41</th>\n",
       "      <td>0</td>\n",
       "      <td>NaN</td>\n",
       "      <td>50</td>\n",
       "      <td>secondary education</td>\n",
       "      <td>1</td>\n",
       "      <td>married</td>\n",
       "      <td>0</td>\n",
       "      <td>F</td>\n",
       "      <td>civil servant</td>\n",
       "      <td>0</td>\n",
       "      <td>NaN</td>\n",
       "      <td>second-hand car purchase</td>\n",
       "    </tr>\n",
       "    <tr>\n",
       "      <th>55</th>\n",
       "      <td>0</td>\n",
       "      <td>NaN</td>\n",
       "      <td>54</td>\n",
       "      <td>secondary education</td>\n",
       "      <td>1</td>\n",
       "      <td>civil partnership</td>\n",
       "      <td>1</td>\n",
       "      <td>F</td>\n",
       "      <td>retiree</td>\n",
       "      <td>1</td>\n",
       "      <td>NaN</td>\n",
       "      <td>to have a wedding</td>\n",
       "    </tr>\n",
       "    <tr>\n",
       "      <th>65</th>\n",
       "      <td>0</td>\n",
       "      <td>NaN</td>\n",
       "      <td>21</td>\n",
       "      <td>secondary education</td>\n",
       "      <td>1</td>\n",
       "      <td>unmarried</td>\n",
       "      <td>4</td>\n",
       "      <td>M</td>\n",
       "      <td>business</td>\n",
       "      <td>0</td>\n",
       "      <td>NaN</td>\n",
       "      <td>transactions with commercial real estate</td>\n",
       "    </tr>\n",
       "    <tr>\n",
       "      <th>67</th>\n",
       "      <td>0</td>\n",
       "      <td>NaN</td>\n",
       "      <td>52</td>\n",
       "      <td>bachelor's degree</td>\n",
       "      <td>0</td>\n",
       "      <td>married</td>\n",
       "      <td>0</td>\n",
       "      <td>F</td>\n",
       "      <td>retiree</td>\n",
       "      <td>0</td>\n",
       "      <td>NaN</td>\n",
       "      <td>purchase of the house for my family</td>\n",
       "    </tr>\n",
       "    <tr>\n",
       "      <th>72</th>\n",
       "      <td>1</td>\n",
       "      <td>NaN</td>\n",
       "      <td>32</td>\n",
       "      <td>bachelor's degree</td>\n",
       "      <td>0</td>\n",
       "      <td>married</td>\n",
       "      <td>0</td>\n",
       "      <td>M</td>\n",
       "      <td>civil servant</td>\n",
       "      <td>0</td>\n",
       "      <td>NaN</td>\n",
       "      <td>transactions with commercial real estate</td>\n",
       "    </tr>\n",
       "    <tr>\n",
       "      <th>82</th>\n",
       "      <td>2</td>\n",
       "      <td>NaN</td>\n",
       "      <td>50</td>\n",
       "      <td>bachelor's degree</td>\n",
       "      <td>0</td>\n",
       "      <td>married</td>\n",
       "      <td>0</td>\n",
       "      <td>F</td>\n",
       "      <td>employee</td>\n",
       "      <td>0</td>\n",
       "      <td>NaN</td>\n",
       "      <td>housing</td>\n",
       "    </tr>\n",
       "    <tr>\n",
       "      <th>83</th>\n",
       "      <td>0</td>\n",
       "      <td>NaN</td>\n",
       "      <td>52</td>\n",
       "      <td>secondary education</td>\n",
       "      <td>1</td>\n",
       "      <td>married</td>\n",
       "      <td>0</td>\n",
       "      <td>M</td>\n",
       "      <td>employee</td>\n",
       "      <td>0</td>\n",
       "      <td>NaN</td>\n",
       "      <td>housing</td>\n",
       "    </tr>\n",
       "    <tr>\n",
       "      <th>90</th>\n",
       "      <td>2</td>\n",
       "      <td>NaN</td>\n",
       "      <td>35</td>\n",
       "      <td>bachelor's degree</td>\n",
       "      <td>0</td>\n",
       "      <td>married</td>\n",
       "      <td>0</td>\n",
       "      <td>F</td>\n",
       "      <td>employee</td>\n",
       "      <td>0</td>\n",
       "      <td>NaN</td>\n",
       "      <td>housing transactions</td>\n",
       "    </tr>\n",
       "    <tr>\n",
       "      <th>94</th>\n",
       "      <td>1</td>\n",
       "      <td>NaN</td>\n",
       "      <td>34</td>\n",
       "      <td>bachelor's degree</td>\n",
       "      <td>0</td>\n",
       "      <td>civil partnership</td>\n",
       "      <td>1</td>\n",
       "      <td>F</td>\n",
       "      <td>business</td>\n",
       "      <td>0</td>\n",
       "      <td>NaN</td>\n",
       "      <td>having a wedding</td>\n",
       "    </tr>\n",
       "    <tr>\n",
       "      <th>96</th>\n",
       "      <td>0</td>\n",
       "      <td>NaN</td>\n",
       "      <td>44</td>\n",
       "      <td>SECONDARY EDUCATION</td>\n",
       "      <td>1</td>\n",
       "      <td>married</td>\n",
       "      <td>0</td>\n",
       "      <td>F</td>\n",
       "      <td>employee</td>\n",
       "      <td>0</td>\n",
       "      <td>NaN</td>\n",
       "      <td>buy residential real estate</td>\n",
       "    </tr>\n",
       "    <tr>\n",
       "      <th>97</th>\n",
       "      <td>0</td>\n",
       "      <td>NaN</td>\n",
       "      <td>47</td>\n",
       "      <td>bachelor's degree</td>\n",
       "      <td>0</td>\n",
       "      <td>married</td>\n",
       "      <td>0</td>\n",
       "      <td>F</td>\n",
       "      <td>employee</td>\n",
       "      <td>0</td>\n",
       "      <td>NaN</td>\n",
       "      <td>profile education</td>\n",
       "    </tr>\n",
       "    <tr>\n",
       "      <th>120</th>\n",
       "      <td>0</td>\n",
       "      <td>NaN</td>\n",
       "      <td>46</td>\n",
       "      <td>secondary education</td>\n",
       "      <td>1</td>\n",
       "      <td>married</td>\n",
       "      <td>0</td>\n",
       "      <td>F</td>\n",
       "      <td>employee</td>\n",
       "      <td>0</td>\n",
       "      <td>NaN</td>\n",
       "      <td>university education</td>\n",
       "    </tr>\n",
       "  </tbody>\n",
       "</table>\n",
       "</div>"
      ],
      "text/plain": [
       "     children  days_employed  dob_years            education  education_id  \\\n",
       "12          0            NaN         65  secondary education             1   \n",
       "26          0            NaN         41  secondary education             1   \n",
       "29          0            NaN         63  secondary education             1   \n",
       "41          0            NaN         50  secondary education             1   \n",
       "55          0            NaN         54  secondary education             1   \n",
       "65          0            NaN         21  secondary education             1   \n",
       "67          0            NaN         52    bachelor's degree             0   \n",
       "72          1            NaN         32    bachelor's degree             0   \n",
       "82          2            NaN         50    bachelor's degree             0   \n",
       "83          0            NaN         52  secondary education             1   \n",
       "90          2            NaN         35    bachelor's degree             0   \n",
       "94          1            NaN         34    bachelor's degree             0   \n",
       "96          0            NaN         44  SECONDARY EDUCATION             1   \n",
       "97          0            NaN         47    bachelor's degree             0   \n",
       "120         0            NaN         46  secondary education             1   \n",
       "\n",
       "         family_status  family_status_id gender    income_type  debt  \\\n",
       "12   civil partnership                 1      M        retiree     0   \n",
       "26             married                 0      M  civil servant     0   \n",
       "29           unmarried                 4      F        retiree     0   \n",
       "41             married                 0      F  civil servant     0   \n",
       "55   civil partnership                 1      F        retiree     1   \n",
       "65           unmarried                 4      M       business     0   \n",
       "67             married                 0      F        retiree     0   \n",
       "72             married                 0      M  civil servant     0   \n",
       "82             married                 0      F       employee     0   \n",
       "83             married                 0      M       employee     0   \n",
       "90             married                 0      F       employee     0   \n",
       "94   civil partnership                 1      F       business     0   \n",
       "96             married                 0      F       employee     0   \n",
       "97             married                 0      F       employee     0   \n",
       "120            married                 0      F       employee     0   \n",
       "\n",
       "     total_income                                   purpose  \n",
       "12            NaN                         to have a wedding  \n",
       "26            NaN                                 education  \n",
       "29            NaN                    building a real estate  \n",
       "41            NaN                  second-hand car purchase  \n",
       "55            NaN                         to have a wedding  \n",
       "65            NaN  transactions with commercial real estate  \n",
       "67            NaN       purchase of the house for my family  \n",
       "72            NaN  transactions with commercial real estate  \n",
       "82            NaN                                   housing  \n",
       "83            NaN                                   housing  \n",
       "90            NaN                      housing transactions  \n",
       "94            NaN                          having a wedding  \n",
       "96            NaN               buy residential real estate  \n",
       "97            NaN                         profile education  \n",
       "120           NaN                      university education  "
      ]
     },
     "execution_count": 12,
     "metadata": {},
     "output_type": "execute_result"
    }
   ],
   "source": [
    "# Mari kita periksa nasabah yang tidak memiliki data tentang karakteristik yang teridentifikasi dan kolom dengan nilai yang hilang\n",
    "data_isna = data[data['days_employed'].isna()]\n",
    "data_isna.head(15)"
   ]
  },
  {
   "cell_type": "code",
   "execution_count": 13,
   "metadata": {
    "scrolled": true
   },
   "outputs": [
    {
     "name": "stdout",
     "output_type": "stream",
     "text": [
      "                             income_type whole_percentage  data_with_na  \\\n",
      "employee                           11119            51.7%        1105.0   \n",
      "business                            5085            23.6%         508.0   \n",
      "retiree                             3856            17.9%         413.0   \n",
      "civil servant                       1459             6.8%         147.0   \n",
      "unemployed                             2             0.0%           NaN   \n",
      "entrepreneur                           2             0.0%           1.0   \n",
      "student                                1             0.0%           NaN   \n",
      "paternity / maternity leave            1             0.0%           NaN   \n",
      "\n",
      "                            missing_percentage  \n",
      "employee                                 50.8%  \n",
      "business                                 23.4%  \n",
      "retiree                                  19.0%  \n",
      "civil servant                             6.8%  \n",
      "unemployed                                nan%  \n",
      "entrepreneur                              0.0%  \n",
      "student                                   nan%  \n",
      "paternity / maternity leave               nan%  \n",
      "\n",
      "                     education whole_percentage  data_with_na  \\\n",
      "secondary education      13750            63.9%        1408.0   \n",
      "bachelor's degree         4718            21.9%         496.0   \n",
      "SECONDARY EDUCATION        772             3.6%          67.0   \n",
      "Secondary Education        711             3.3%          65.0   \n",
      "some college               668             3.1%          55.0   \n",
      "BACHELOR'S DEGREE          274             1.3%          23.0   \n",
      "Bachelor's Degree          268             1.2%          25.0   \n",
      "primary education          250             1.2%          19.0   \n",
      "Some College                47             0.2%           7.0   \n",
      "SOME COLLEGE                29             0.1%           7.0   \n",
      "PRIMARY EDUCATION           17             0.1%           1.0   \n",
      "Primary Education           15             0.1%           1.0   \n",
      "graduate degree              4             0.0%           NaN   \n",
      "GRADUATE DEGREE              1             0.0%           NaN   \n",
      "Graduate Degree              1             0.0%           NaN   \n",
      "\n",
      "                    missing_percentage  \n",
      "secondary education              64.8%  \n",
      "bachelor's degree                22.8%  \n",
      "SECONDARY EDUCATION               3.1%  \n",
      "Secondary Education               3.0%  \n",
      "some college                      2.5%  \n",
      "BACHELOR'S DEGREE                 1.1%  \n",
      "Bachelor's Degree                 1.1%  \n",
      "primary education                 0.9%  \n",
      "Some College                      0.3%  \n",
      "SOME COLLEGE                      0.3%  \n",
      "PRIMARY EDUCATION                 0.0%  \n",
      "Primary Education                 0.0%  \n",
      "graduate degree                   nan%  \n",
      "GRADUATE DEGREE                   nan%  \n",
      "Graduate Degree                   nan%  \n",
      "\n",
      "                   family_status whole_percentage  data_with_na  \\\n",
      "married                    12380            57.5%          1237   \n",
      "civil partnership           4177            19.4%           442   \n",
      "unmarried                   2813            13.1%           288   \n",
      "divorced                    1195             5.6%           112   \n",
      "widow / widower              960             4.5%            95   \n",
      "\n",
      "                  missing_percentage  \n",
      "married                        56.9%  \n",
      "civil partnership              20.3%  \n",
      "unmarried                      13.2%  \n",
      "divorced                        5.2%  \n",
      "widow / widower                 4.4%  \n",
      "\n"
     ]
    }
   ],
   "source": [
    "# Periksalah distribusinya\n",
    "\n",
    "# Membandingkan distribusi nilai beberapa kolom dari data ber-NaN dengan data utuh\n",
    "\n",
    "data_income_type = pd.DataFrame(data['income_type'].value_counts())\n",
    "data_education = pd.DataFrame(data['education'].value_counts())\n",
    "data_family_status = pd.DataFrame(data['family_status'].value_counts())\n",
    "\n",
    "isna_income_type = pd.DataFrame(data_isna['income_type'].value_counts())\n",
    "isna_education = pd.DataFrame(data_isna['education'].value_counts())\n",
    "isna_family_status = pd.DataFrame(data_isna['family_status'].value_counts())\n",
    "\n",
    "# Membuat tabel untuk perbandingan side-by-side\n",
    "# Ada 4 kolom di masing-masing tabel:\n",
    "# Jumlah nilai di data utuh, persentase nilai dari seluruh nilai di kolom di data utuh,\n",
    "# Jumlah nilai di data dengan NaN, dan persentase nilai dari seluruh nilai di kolom di data dengan NaN\n",
    "# Hipotesis: jika persentase nilai di data utuh dan data ber-NaN serupa,\n",
    "# persebaran/distribusi data ber-NaN serupa dengan persebaran \"alami\" di data utuh\n",
    "# sehingga nilai NaN dapat dikatakan terekam secara acak.\n",
    "\n",
    "data_list = [data_income_type, data_education, data_family_status]\n",
    "column_names = ['income_type', 'education', 'family_status']\n",
    "isna_list = [isna_income_type, isna_education, isna_family_status]\n",
    "tables_list = []\n",
    "\n",
    "# Menggunakan loop untuk membuat 3 buah tabel.\n",
    "# index = iterasi ke-..., series = series yang tersimpan di data_list\n",
    "# Fungsi enumerate() me-return nilai index dan series,\n",
    "# lalu loop akan\n",
    "# 1. memasukkan series dari data_list sebagai kolom di dataframe baru,\n",
    "# 2. me-rename kolom sesuai nama di column_names untuk memudahkan iterasi,\n",
    "# 3. menghitung persentase distribusi nilai dari series tsb. di data utuh,\n",
    "# 4. memasukkan series dari isna_list sebagai kolom,\n",
    "# 5. menghitung persentase distribusi nilai dari series tsb. di data ber-NaN. \n",
    "\n",
    "for index, series in enumerate(data_list):\n",
    "        df = series.assign()\n",
    "        df.set_axis([f'{column_names[index]}'], axis = 'columns', inplace = True)\n",
    "        df['whole_percentage'] =  ((df[f'{column_names[index]}'] / df[f'{column_names[index]}'].sum()) * 100).round(1).astype(str) + '%'\n",
    "        df['data_with_na'] = isna_list[index].assign()\n",
    "        df['missing_percentage'] = ((df['data_with_na'] / df['data_with_na'].sum()) * 100).round(1).astype(str) + '%'\n",
    "        tables_list.append(df)\n",
    "        \n",
    "for df in tables_list:\n",
    "    print(df)\n",
    "    print()\n"
   ]
  },
  {
   "cell_type": "markdown",
   "metadata": {},
   "source": [
    "Dapat diamati bahwa distribusi data yang utuh dengan data bernilai `NaN` memiliki persentase yang mirip, terutama untuk nilai-nilai terbanyak dalam satu kolom.\n",
    "\n",
    "**Kemungkinan penyebab hilangnya nilai dalam data**\n",
    "\n",
    "Metode `head()` dan `value_counts()` pada data bernilai `NaN` tidak menunjukkan pola kehilangan yang dapat diamati. <br> Hipotesis: jika persentase distribusi nilai di data utuh dan data ber-NaN serupa, persebaran/distribusi data ber-NaN serupa juga dengan persebaran \"alami\" di data utuh, sehingga ada kemungkinan bahwa nilai `NaN` memang terekam secara acak. <br> Penyebabnya diduga karena kesalahan metode/*software* pengumpulan data yang menyebabkan nilai hilang dan *impossible values* yang tersebar di seluruh data.\n"
   ]
  },
  {
   "cell_type": "markdown",
   "metadata": {},
   "source": [
    "**Kesimpulan sementara**\n",
    "\n",
    "Distribusi serupa. Sesuai hipotesis yang disebutkan di atas, distribusi data utuh dan data bernilai `NaN` serupa, memperkuat dugaan bahwa nilai `NaN` terekam secara acak.\n"
   ]
  },
  {
   "cell_type": "code",
   "execution_count": 15,
   "metadata": {},
   "outputs": [],
   "source": [
    "# Periksa penyebab dan pola lain yang dapat mengakibatkan nilai yang hilang\n",
    "\n",
    "# Pembersihan data (commented-out untuk mencegah kontaminasi data asli, karena sudah tidak terpakai)\n",
    "#data_cleaned = data\n",
    "#data_cleaned['education'] = data_cleaned['education'].str.lower()\n",
    "#data_cleaned = data_cleaned.drop_duplicates()\n",
    "#data_cleaned = data_cleaned.dropna()\n",
    "\n",
    "# Mencari tren nilai days_employed berdasarkan nilai di kolom income_type\n",
    "#income_types = data['income_type'].unique()\n",
    "#income_types_max = []\n",
    "#income_types_min = []\n",
    "#income_types_statistics_columns = {'min': income_types_min, 'max': income_types_max}\n",
    "\n",
    "#for income_type in income_types:\n",
    "#    max_value = data_cleaned_sorted[data_cleaned_sorted['income_type'] == income_type]['days_employed'].max()\n",
    "#    income_types_max.append(max_value)\n",
    "#    min_value = data_cleaned_sorted[data_cleaned_sorted['income_type'] == income_type]['days_employed'].min()\n",
    "#    income_types_min.append(min_value)\n",
    "    \n",
    "#income_types_statistics = pd.DataFrame(data=income_types_statistics_columns, index=income_types)\n",
    "#income_types_statistics\n"
   ]
  },
  {
   "cell_type": "markdown",
   "metadata": {},
   "source": [
    "**Kesimpulan sementara**\n",
    "\n",
    "Melihat bahwa nilai di kolom `days_employed` _**hanya**_ berisi *impossible values*, sepertinya asumsi bahwa nilai `NaN` tersebar secara acak/kebetulan juga merupakan asumsi yang cukup masuk akal."
   ]
  },
  {
   "cell_type": "markdown",
   "metadata": {},
   "source": [
    "**Kesimpulan**\n",
    "\n",
    "Tidak ada pola yang jelas dalam hilangnya nilai.\n",
    "\n",
    "Kolom-kolom yang berisi *missing values* atau *impossible values* adalah:\n",
    "1. `children`, berupa nilai `-1` dalam 12 baris; dan `20` dalam 76 baris. Nilai `20` akan dianggap sebagai *impossible value* karena terpaut jauh dari jumlah anak tertinggi berikutnya (`5`), dan tersebar dalam banyak baris.\n",
    "1. `days_employed`, seluruhnya berupa *impossible values* (hari kerja negatif atau melebihi usia nasabah) atau `NaN`.\n",
    "1. `dob_years`, berupa nilai `0` dalam 101 baris.\n",
    "1. `total_income`, berupa nilai `NaN` dalam 2174 baris.\n",
    "\n",
    "<br>\n",
    "\n",
    "Nilai-nilai tersebut akan ditangani dengan cara berikut:\n",
    "1. Mengingat bahwa tidak ada *outlier* yang signifikan dalam jumlah anak, nilai `-1` dan `20` di kolom `children` akan diganti dengan rata-rata dari semua nilai `children` yang dibulatkan ke bawah ke satuan terdekat.\n",
    "1. Seluruh kolom `days_employed` akan dihapus karena _**hanya**_ berisi *impossible values* yang tidak berpengaruh kepada tujuan proyek.\n",
    "1. Nilai `0` di kolom `dob_years` dianggap sebagai *missing value* karena bukan nilai yang dapat diterima dan merupakan satu-satunya nilai unik yang tidak masuk akal. Nilai ini akan diganti dengan rata-rata usia seluruh nasabah karena tidak ada *outlier* usia yang signifikan.\n",
    "1. Nilai `NaN` di kolom `total_income` akan diganti dengan median, bukan rata-rata, dari pendapatan per kelompok nasabah karena data mengandung *outlier*."
   ]
  },
  {
   "cell_type": "markdown",
   "metadata": {},
   "source": [
    "## Transformasi data\n",
    "\n",
    "Selain masalah *missing values* dan *impossible values* yang telah dijabarkan di atas, masalah lain di data adalah:\n",
    "1. Kapitalisasi data di kolom `education` yang tidak seragam.\n",
    "1. Nilai di kolom `purpose` yang mungkin akan sulit dikategorikan. Cara penyampaian tujuan yang berbeda dari nasabah ke nasabah berpotensi menyulitkan kategorisasi karena meningkatkan jumlah nilai unik.\n",
    "1. Nilai duplikat.\n"
   ]
  },
  {
   "cell_type": "code",
   "execution_count": 17,
   "metadata": {},
   "outputs": [
    {
     "data": {
      "text/plain": [
       "array([\"bachelor's degree\", 'secondary education', 'Secondary Education',\n",
       "       'SECONDARY EDUCATION', \"BACHELOR'S DEGREE\", 'some college',\n",
       "       'primary education', \"Bachelor's Degree\", 'SOME COLLEGE',\n",
       "       'Some College', 'PRIMARY EDUCATION', 'Primary Education',\n",
       "       'Graduate Degree', 'GRADUATE DEGREE', 'graduate degree'],\n",
       "      dtype=object)"
      ]
     },
     "execution_count": 17,
     "metadata": {},
     "output_type": "execute_result"
    }
   ],
   "source": [
    "# Mari kita lihat semua nilai di kolom pendidikan untuk memeriksa ejaan apa yang perlu diperbaiki\n",
    "data['education'].unique()\n"
   ]
  },
  {
   "cell_type": "code",
   "execution_count": 18,
   "metadata": {
    "scrolled": true
   },
   "outputs": [],
   "source": [
    "# Perbaiki pencatatan jika diperlukan\n",
    "data['education'] = data['education'].str.lower()\n"
   ]
  },
  {
   "cell_type": "code",
   "execution_count": 19,
   "metadata": {},
   "outputs": [
    {
     "data": {
      "text/plain": [
       "array([\"bachelor's degree\", 'secondary education', 'some college',\n",
       "       'primary education', 'graduate degree'], dtype=object)"
      ]
     },
     "execution_count": 19,
     "metadata": {},
     "output_type": "execute_result"
    }
   ],
   "source": [
    "# Periksa semua nilai di kolom untuk memastikan bahwa kita telah memperbaikinya dengan tepat\n",
    "data['education'].unique()\n"
   ]
  },
  {
   "cell_type": "code",
   "execution_count": 20,
   "metadata": {},
   "outputs": [
    {
     "data": {
      "text/html": [
       "<div>\n",
       "<style scoped>\n",
       "    .dataframe tbody tr th:only-of-type {\n",
       "        vertical-align: middle;\n",
       "    }\n",
       "\n",
       "    .dataframe tbody tr th {\n",
       "        vertical-align: top;\n",
       "    }\n",
       "\n",
       "    .dataframe thead th {\n",
       "        text-align: right;\n",
       "    }\n",
       "</style>\n",
       "<table border=\"1\" class=\"dataframe\">\n",
       "  <thead>\n",
       "    <tr style=\"text-align: right;\">\n",
       "      <th></th>\n",
       "      <th>children_count</th>\n",
       "      <th>children_percentage</th>\n",
       "    </tr>\n",
       "  </thead>\n",
       "  <tbody>\n",
       "    <tr>\n",
       "      <th>-1</th>\n",
       "      <td>47</td>\n",
       "      <td>0.22%</td>\n",
       "    </tr>\n",
       "    <tr>\n",
       "      <th>0</th>\n",
       "      <td>14149</td>\n",
       "      <td>65.73%</td>\n",
       "    </tr>\n",
       "    <tr>\n",
       "      <th>1</th>\n",
       "      <td>4818</td>\n",
       "      <td>22.38%</td>\n",
       "    </tr>\n",
       "    <tr>\n",
       "      <th>2</th>\n",
       "      <td>2055</td>\n",
       "      <td>9.55%</td>\n",
       "    </tr>\n",
       "    <tr>\n",
       "      <th>3</th>\n",
       "      <td>330</td>\n",
       "      <td>1.53%</td>\n",
       "    </tr>\n",
       "    <tr>\n",
       "      <th>4</th>\n",
       "      <td>41</td>\n",
       "      <td>0.19%</td>\n",
       "    </tr>\n",
       "    <tr>\n",
       "      <th>5</th>\n",
       "      <td>9</td>\n",
       "      <td>0.04%</td>\n",
       "    </tr>\n",
       "    <tr>\n",
       "      <th>20</th>\n",
       "      <td>76</td>\n",
       "      <td>0.35%</td>\n",
       "    </tr>\n",
       "  </tbody>\n",
       "</table>\n",
       "</div>"
      ],
      "text/plain": [
       "     children_count children_percentage\n",
       "-1               47               0.22%\n",
       " 0            14149              65.73%\n",
       " 1             4818              22.38%\n",
       " 2             2055               9.55%\n",
       " 3              330               1.53%\n",
       " 4               41               0.19%\n",
       " 5                9               0.04%\n",
       " 20              76               0.35%"
      ]
     },
     "execution_count": 20,
     "metadata": {},
     "output_type": "execute_result"
    }
   ],
   "source": [
    "# Mari kita lihat distribusi nilai pada kolom `children`\n",
    "children_values = data['children'].sort_values(ascending=True).unique()\n",
    "children_count = data['children'].value_counts()\n",
    "children_percentage =  ((children_count / data['children'].count()) * 100).round(2).astype(str) + '%'\n",
    "\n",
    "children_distribution_columns = {'children_count': children_count, 'children_percentage': children_percentage}\n",
    "\n",
    "children_distribution = pd.DataFrame(data=children_distribution_columns, index=children_values)\n",
    "children_distribution"
   ]
  },
  {
   "cell_type": "markdown",
   "metadata": {},
   "source": [
    "Seperti yang telah dipaparkan sebelumnya, ada *impossible values* `-1` dan `20` di kolom `children`. Nilai `20` akan dianggap sebagai *impossible value* karena terpaut jauh dari jumlah anak tertinggi berikutnya (`5`), dan tersebar dalam banyak baris.\n",
    "\n",
    "Mengingat bahwa tidak ada *outlier* yang signifikan dalam jumlah anak, nilai `-1` dan `20` di kolom `children` akan diganti dengan rata-rata dari semua nilai `children` yang dibulatkan ke bawah ke satuan terdekat."
   ]
  },
  {
   "cell_type": "code",
   "execution_count": 21,
   "metadata": {},
   "outputs": [
    {
     "name": "stdout",
     "output_type": "stream",
     "text": [
      "Rata-rata jumlah anak: 0\n"
     ]
    }
   ],
   "source": [
    "# Memfilter data dengan impossible values\n",
    "children_filtered = data[data['children'] != -1]\n",
    "children_filtered = children_filtered[children_filtered['children'] != 20]\n",
    "\n",
    "# Menghitung rata-rata jumlah anak\n",
    "children_mean = int(children_filtered['children'].mean().round(0))\n",
    "print('Rata-rata jumlah anak: ' + str(children_mean))\n",
    "\n",
    "# Mengganti impossible values\n",
    "children_impossible = [-1, 20]\n",
    "data['children'].replace(to_replace=children_impossible, value=children_mean, inplace=True)\n",
    "data['children'] = data['children'].apply(int)\n"
   ]
  },
  {
   "cell_type": "code",
   "execution_count": 22,
   "metadata": {},
   "outputs": [
    {
     "data": {
      "text/plain": [
       "array([0, 1, 2, 3, 4, 5])"
      ]
     },
     "execution_count": 22,
     "metadata": {},
     "output_type": "execute_result"
    }
   ],
   "source": [
    "# Periksa kembali kolom `children` untuk memastikan bahwa semuanya telah diperbaiki\n",
    "data['children'].sort_values().unique()\n"
   ]
  },
  {
   "cell_type": "markdown",
   "metadata": {},
   "source": [
    "Seluruh kolom `days_employed` akan dihapus karena _**hanya**_ berisi *impossible values* dan `NaN` yang tidak berpengaruh kepada kalkulasi dan tujuan proyek."
   ]
  },
  {
   "cell_type": "code",
   "execution_count": 23,
   "metadata": {},
   "outputs": [
    {
     "name": "stdout",
     "output_type": "stream",
     "text": [
      "Durasi kerja positif terkecil di kolom days_employed: 901.0 tahun\n",
      "\n"
     ]
    },
    {
     "data": {
      "text/html": [
       "<div>\n",
       "<style scoped>\n",
       "    .dataframe tbody tr th:only-of-type {\n",
       "        vertical-align: middle;\n",
       "    }\n",
       "\n",
       "    .dataframe tbody tr th {\n",
       "        vertical-align: top;\n",
       "    }\n",
       "\n",
       "    .dataframe thead th {\n",
       "        text-align: right;\n",
       "    }\n",
       "</style>\n",
       "<table border=\"1\" class=\"dataframe\">\n",
       "  <thead>\n",
       "    <tr style=\"text-align: right;\">\n",
       "      <th></th>\n",
       "      <th>count</th>\n",
       "      <th>percentage</th>\n",
       "    </tr>\n",
       "  </thead>\n",
       "  <tbody>\n",
       "    <tr>\n",
       "      <th>negative</th>\n",
       "      <td>15906</td>\n",
       "      <td>82.2%</td>\n",
       "    </tr>\n",
       "    <tr>\n",
       "      <th>positive</th>\n",
       "      <td>3445</td>\n",
       "      <td>17.8%</td>\n",
       "    </tr>\n",
       "    <tr>\n",
       "      <th>nan</th>\n",
       "      <td>2174</td>\n",
       "      <td>11.23%</td>\n",
       "    </tr>\n",
       "  </tbody>\n",
       "</table>\n",
       "</div>"
      ],
      "text/plain": [
       "          count percentage\n",
       "negative  15906      82.2%\n",
       "positive   3445      17.8%\n",
       "nan        2174     11.23%"
      ]
     },
     "execution_count": 23,
     "metadata": {},
     "output_type": "execute_result"
    }
   ],
   "source": [
    "# Temukan data yang bermasalah di `days_employed`, jika memang terdapat masalah, dan hitung persentasenya\n",
    "# Membuktikan bahwa nilai positif di days_employed merupakan impossible values:\n",
    "# 1. Mencari nilai positif minimum\n",
    "# 2. Mengubahnya ke satuan tahun\n",
    "years_employed = (data[data['days_employed'] > 0]['days_employed'].min()) / 365\n",
    "print('Durasi kerja positif terkecil di kolom days_employed: ' + str(years_employed.round(0)) + ' tahun')\n",
    "print()\n",
    "\n",
    "# Menghitung distribusi data\n",
    "# Mengelompokkan data ke dalam 3 kategori: negatif, positif, dan NaN\n",
    "days_employed = data['days_employed']\n",
    "days_employed_negative_count = 0\n",
    "days_employed_positive_count = 0\n",
    "days_employed_nan_count = 0\n",
    "\n",
    "for value in days_employed:\n",
    "    if value < 0:\n",
    "        days_employed_negative_count += 1\n",
    "    elif value > 0:\n",
    "        days_employed_positive_count += 1\n",
    "    else:\n",
    "        days_employed_nan_count += 1\n",
    "\n",
    "# Memastikan keutuhan kalkulasi:\n",
    "# Jika jumlah semua kelompok sama dengan banyaknya baris di data, hasil akan True\n",
    "# days_employed_negative_count + days_employed_positive_count + days_employed_nan_count == data.shape[0]\n",
    "\n",
    "# Menampilkan persentase\n",
    "days_employed_negative_percentage = ((days_employed_negative_count / data['days_employed'].count()) * 100).round(2).astype(str) + '%'\n",
    "days_employed_positive_percentage = ((days_employed_positive_count / data['days_employed'].count()) * 100).round(2).astype(str) + '%'\n",
    "days_employed_nan_percentage = ((days_employed_nan_count / data['days_employed'].count()) * 100).round(2).astype(str) + '%'\n",
    "\n",
    "days_employed_count = [days_employed_negative_count, days_employed_positive_count, days_employed_nan_count]\n",
    "days_employed_percentage = [days_employed_negative_percentage, days_employed_positive_percentage, days_employed_nan_percentage]\n",
    "\n",
    "days_employed_distribution_index = ['negative', 'positive', 'nan']\n",
    "days_employed_distribution_columns = {'count': days_employed_count, 'percentage': days_employed_percentage}\n",
    "\n",
    "days_employed_distribution = pd.DataFrame(data=days_employed_distribution_columns, index=days_employed_distribution_index)\n",
    "days_employed_distribution\n"
   ]
  },
  {
   "cell_type": "markdown",
   "metadata": {},
   "source": [
    "100% nilai di kolom `days_employed` bermasalah, disebabkan oleh kesalahan metode atau *software* pengumpulan data. Seharusnya, data menunjukkan jumlah hari kerja yang masuk akal (0 sampai beberapa tahun di bawah usia nasabah). Data dapat dibiarkan saja atau dihapus."
   ]
  },
  {
   "cell_type": "code",
   "execution_count": 24,
   "metadata": {},
   "outputs": [],
   "source": [
    "# Atasi nilai yang bermasalah, jika ada\n",
    "# Jika perlu, hapus kolom:\n",
    "# data.drop('days_employed')"
   ]
  },
  {
   "cell_type": "code",
   "execution_count": 25,
   "metadata": {},
   "outputs": [],
   "source": [
    "# Periksa hasilnya - pastikan bahwa masalahnya telah diperbaiki\n",
    "# Jika perlu, tampilkan data atau informasinya:\n",
    "# data\n",
    "# data.info()\n"
   ]
  },
  {
   "cell_type": "markdown",
   "metadata": {},
   "source": [
    "Memeriksa kolom usia nasabah:"
   ]
  },
  {
   "cell_type": "code",
   "execution_count": 26,
   "metadata": {
    "scrolled": true
   },
   "outputs": [
    {
     "name": "stdout",
     "output_type": "stream",
     "text": [
      "Usia terendah: 0\n",
      "Usia tertinggi: 75\n",
      "Angka-angka di bawah usia dewasa legal:\n",
      "[0]\n"
     ]
    }
   ],
   "source": [
    "# Periksa `dob_years` untuk nilai yang mencurigakan dan hitung persentasenya\n",
    "print('Usia terendah: ' + str(data['dob_years'].min()))\n",
    "print('Usia tertinggi: ' + str(data['dob_years'].max()))\n",
    "\n",
    "# Mengecek apakah ada usia yang tidak masuk akal di atas 0\n",
    "print('Angka-angka di bawah usia dewasa legal:')\n",
    "print(data[data['dob_years'] < 18]['dob_years'].unique()) \n",
    "# Usia 18 menjadi filter karena merupakan usia dewasa secara legal.\n",
    "# Anak-anak di bawah usia 18 tahun seharusnya tidak akan bisa mendapatkan pinjaman.\n",
    "\n"
   ]
  },
  {
   "cell_type": "markdown",
   "metadata": {},
   "source": [
    "Seperti yang telah dipaparkan di atas, nilai `0` di kolom `dob_years` dianggap sebagai *missing value* karena bukan nilai yang dapat diterima dan merupakan satu-satunya nilai unik yang tidak masuk akal. Nilai ini akan diganti dengan rata-rata usia seluruh nasabah karena tidak ada *outlier* usia yang signifikan."
   ]
  },
  {
   "cell_type": "code",
   "execution_count": 27,
   "metadata": {},
   "outputs": [
    {
     "name": "stdout",
     "output_type": "stream",
     "text": [
      "Rata-rata usia: 43\n"
     ]
    }
   ],
   "source": [
    "# Atasi masalah pada kolom `dob_years`, jika terdapat masalah\n",
    "# Memfilter data dengan impossible values\n",
    "dob_years_filtered = data[data['dob_years'] != 0]\n",
    "\n",
    "# Menghitung rata-rata jumlah anak\n",
    "dob_years_mean = int(dob_years_filtered['dob_years'].mean().round(0))\n",
    "print('Rata-rata usia: ' + str(dob_years_mean))\n",
    "\n",
    "# Mengganti impossible values\n",
    "data['dob_years'].replace(to_replace=0, value=dob_years_mean, inplace=True)\n",
    "data['dob_years'] = data['dob_years'].apply(int)\n"
   ]
  },
  {
   "cell_type": "code",
   "execution_count": 28,
   "metadata": {},
   "outputs": [
    {
     "name": "stdout",
     "output_type": "stream",
     "text": [
      "Usia terendah: 19\n",
      "Usia tertinggi: 75\n",
      "Angka-angka di bawah usia dewasa legal:\n",
      "[]\n"
     ]
    }
   ],
   "source": [
    "# Periksa hasilnya - pastikan bahwa masalahnya telah diperbaiki\n",
    "print('Usia terendah: ' + str(data['dob_years'].min()))\n",
    "print('Usia tertinggi: ' + str(data['dob_years'].max()))\n",
    "print('Angka-angka di bawah usia dewasa legal:')\n",
    "print(data[data['dob_years'] < 18]['dob_years'].unique()) "
   ]
  },
  {
   "cell_type": "markdown",
   "metadata": {},
   "source": [
    "Memeriksa kolom `family_status`:"
   ]
  },
  {
   "cell_type": "code",
   "execution_count": 29,
   "metadata": {},
   "outputs": [
    {
     "data": {
      "text/plain": [
       "array(['married', 'civil partnership', 'widow / widower', 'divorced',\n",
       "       'unmarried'], dtype=object)"
      ]
     },
     "execution_count": 29,
     "metadata": {},
     "output_type": "execute_result"
    }
   ],
   "source": [
    "# Mari kita lihat nilai untuk kolom ini\n",
    "data['family_status'].unique()\n"
   ]
  },
  {
   "cell_type": "code",
   "execution_count": 30,
   "metadata": {},
   "outputs": [],
   "source": [
    "# Atasi nilai yang bermasalah di `family_status`, jika ada\n",
    "# Tidak ada.\n"
   ]
  },
  {
   "cell_type": "markdown",
   "metadata": {},
   "source": [
    "Memeriksa kolom `gender`:"
   ]
  },
  {
   "cell_type": "code",
   "execution_count": 32,
   "metadata": {},
   "outputs": [
    {
     "data": {
      "text/plain": [
       "array(['F', 'M', 'XNA'], dtype=object)"
      ]
     },
     "execution_count": 32,
     "metadata": {},
     "output_type": "execute_result"
    }
   ],
   "source": [
    "# Mari kita liat nilai dalam kolom ini\n",
    "data['gender'].unique()"
   ]
  },
  {
   "cell_type": "code",
   "execution_count": 33,
   "metadata": {},
   "outputs": [],
   "source": [
    "# Atasi nilai-nilai yang bermasalah, jika ada"
   ]
  },
  {
   "cell_type": "markdown",
   "metadata": {},
   "source": [
    "Ada kemungkinan bahwa nasabah disediakan pilihan untuk tidak menyebutkan gendernya, diwakili dengan nilai `'XNA'` (berarti 'prefer not to say', 'non-binary', atau semacamnya). Karena ini, nilai `'XNA'` tidak dianggap sebagai nilai yang hilang."
   ]
  },
  {
   "cell_type": "markdown",
   "metadata": {},
   "source": [
    "Memeriksa kolom `income_type`:"
   ]
  },
  {
   "cell_type": "code",
   "execution_count": 35,
   "metadata": {},
   "outputs": [
    {
     "name": "stdout",
     "output_type": "stream",
     "text": [
      "employee                       11119\n",
      "business                        5085\n",
      "retiree                         3856\n",
      "civil servant                   1459\n",
      "unemployed                         2\n",
      "entrepreneur                       2\n",
      "student                            1\n",
      "paternity / maternity leave        1\n",
      "Name: income_type, dtype: int64\n"
     ]
    }
   ],
   "source": [
    "# Mari kita lihat nilai dalam kolom ini\n",
    "print(data['income_type'].value_counts())\n",
    "\n",
    "# Jika jumlah semua kelompok sama dengan banyaknya baris di data, hasil akan True\n",
    "# data['income_type'].value_counts().sum() == data.shape[0]"
   ]
  },
  {
   "cell_type": "code",
   "execution_count": 36,
   "metadata": {},
   "outputs": [],
   "source": [
    "# Atasi nilai yang bermasalah, jika ada\n",
    "# Tidak ada."
   ]
  },
  {
   "cell_type": "markdown",
   "metadata": {},
   "source": [
    "Memeriksa duplikat:"
   ]
  },
  {
   "cell_type": "code",
   "execution_count": 38,
   "metadata": {},
   "outputs": [
    {
     "data": {
      "text/plain": [
       "71"
      ]
     },
     "execution_count": 38,
     "metadata": {},
     "output_type": "execute_result"
    }
   ],
   "source": [
    "# Periksa duplikat\n",
    "data.duplicated().sum()\n"
   ]
  },
  {
   "cell_type": "markdown",
   "metadata": {},
   "source": [
    "Ada 71 data duplikat. Dapat diasumsikan bahwa ke-71 data tersebut memang duplikat--bukan entri asli yang secara kebetulan bernilai sama--karena variabel yang ada di dalam data terlalu banyak dan beragam untuk memungkinkan sebuah kebetulan. Data-data ini akan dihapus agar tidak memengaruhi hasil perhitungan."
   ]
  },
  {
   "cell_type": "code",
   "execution_count": 39,
   "metadata": {},
   "outputs": [],
   "source": [
    "# Atasi duplikat, jika ada\n",
    "data = data.drop_duplicates()\n"
   ]
  },
  {
   "cell_type": "code",
   "execution_count": 40,
   "metadata": {},
   "outputs": [
    {
     "data": {
      "text/plain": [
       "0"
      ]
     },
     "execution_count": 40,
     "metadata": {},
     "output_type": "execute_result"
    }
   ],
   "source": [
    "# Lakukan pemeriksaan terakhir untuk mengecek apakah kita memiliki duplikat\n",
    "data.duplicated().sum()\n"
   ]
  },
  {
   "cell_type": "code",
   "execution_count": 41,
   "metadata": {},
   "outputs": [
    {
     "name": "stdout",
     "output_type": "stream",
     "text": [
      "<class 'pandas.core.frame.DataFrame'>\n",
      "Int64Index: 21454 entries, 0 to 21524\n",
      "Data columns (total 12 columns):\n",
      " #   Column            Non-Null Count  Dtype  \n",
      "---  ------            --------------  -----  \n",
      " 0   children          21454 non-null  int64  \n",
      " 1   days_employed     19351 non-null  float64\n",
      " 2   dob_years         21454 non-null  int64  \n",
      " 3   education         21454 non-null  object \n",
      " 4   education_id      21454 non-null  int64  \n",
      " 5   family_status     21454 non-null  object \n",
      " 6   family_status_id  21454 non-null  int64  \n",
      " 7   gender            21454 non-null  object \n",
      " 8   income_type       21454 non-null  object \n",
      " 9   debt              21454 non-null  int64  \n",
      " 10  total_income      19351 non-null  float64\n",
      " 11  purpose           21454 non-null  object \n",
      "dtypes: float64(2), int64(5), object(5)\n",
      "memory usage: 2.1+ MB\n"
     ]
    }
   ],
   "source": [
    "# Periksa ukuran dataset yang sekarang Anda miliki setelah manipulasi pertama yang Anda lakukan\n",
    "data.info()\n"
   ]
  },
  {
   "cell_type": "markdown",
   "metadata": {},
   "source": [
    "Data mengalami pengurangan sebanyak 71 baris, sesuai dengan jumlah duplikat yang dihapus. Masih ada nilai NaN di kolom `days_employed` dan `total_income` yang akan ditangani di bagian berikutnya."
   ]
  },
  {
   "cell_type": "markdown",
   "metadata": {},
   "source": [
    "# Bekerja dengan nilai yang hilang"
   ]
  },
  {
   "cell_type": "markdown",
   "metadata": {},
   "source": [
    "Kategorisasi nasabah berdasarkan latar belakang pendidikan (`education`) dan status marital (`family_status`) mungkin akan memudahkan pembuatan keputusan untuk mengisi data yang kosong. Berikut adalah kategorisasi yang ada di dalam data, beserta ID-nya, dalam bentuk dictionary. Dictionary yang digunakan adalah dictionary biasa karena dictionary biasa sejak Python 3.7 mampu menampung *stored values* secara berurutan, sehingga OrderedDict tidak perlu digunakan. "
   ]
  },
  {
   "cell_type": "code",
   "execution_count": 42,
   "metadata": {},
   "outputs": [],
   "source": [
    "# Temukan dictionary"
   ]
  },
  {
   "cell_type": "code",
   "execution_count": 43,
   "metadata": {},
   "outputs": [
    {
     "name": "stdout",
     "output_type": "stream",
     "text": [
      "{0: \"bachelor's degree\", 1: 'secondary education', 2: 'some college', 3: 'primary education', 4: 'graduate degree'}\n"
     ]
    }
   ],
   "source": [
    "# Membuat dictionary `education`\n",
    "# 1. Mengumpulkan nilai `education_id`\n",
    "# 2. Membuat dictionary kosong `education_dict`\n",
    "# 3. Looping: untuk setiap identifier di `education_id`, \n",
    "#    `data` difilter agar hanya menampilkan data yang diwakili oleh identifier tersebut,\n",
    "#    menghasilkan hanya 1 nilai unik dari kolom `education`.\n",
    "# 4. Nilai dari kolom `education` dipasangkan dengan identifier, lalu ditambahkan ke `education_dict`.\n",
    "\n",
    "education_id = data['education_id'].unique()\n",
    "education_dict = {}\n",
    "\n",
    "for i in education_id:\n",
    "    i_value = data[data['education_id'] == i]['education'].unique()\n",
    "    education_dict.update({education_id[i] : i_value[0]})\n",
    "\n",
    "print(education_dict)"
   ]
  },
  {
   "cell_type": "code",
   "execution_count": 44,
   "metadata": {},
   "outputs": [
    {
     "name": "stdout",
     "output_type": "stream",
     "text": [
      "{0: 'married', 1: 'civil partnership', 2: 'widow / widower', 3: 'divorced', 4: 'unmarried'}\n"
     ]
    }
   ],
   "source": [
    "# Membuat dictionary `family_status`\n",
    "\n",
    "family_status_id = data['family_status_id'].unique()\n",
    "family_status_dict = {}\n",
    "\n",
    "for i in family_status_id:\n",
    "    i_value = data[data['family_status_id'] == i]['family_status'].unique()\n",
    "    family_status_dict.update({family_status_id[i] : i_value[0]})\n",
    "\n",
    "print(family_status_dict)"
   ]
  },
  {
   "cell_type": "markdown",
   "metadata": {},
   "source": [
    "### Memperbaiki nilai yang hilang di `total_income`"
   ]
  },
  {
   "cell_type": "markdown",
   "metadata": {},
   "source": [
    "Ada dua kolom yang berisi nilai yang hilang: `days_employed` dan `total_income`, masing-masing sebanyak 2174 butir data dalam 2174 baris. \n",
    "\n",
    "Nasabah akan dikelompokkan berdasarkan faktor-faktor tertentu, lalu median dari data per kelompok nasabah akan digunakan untuk mengisi nilai yang hilang. Median, bukan rata-rata, dipilih karena jumlah hari kerja dan pendapatan mengandung *outlier*."
   ]
  },
  {
   "cell_type": "code",
   "execution_count": 45,
   "metadata": {},
   "outputs": [],
   "source": [
    "# Mari kita tulis sebuah fungsi untuk menghitung kategori usia\n",
    "def age_group(age):\n",
    "    \"\"\"\n",
    "    The function returns the following age groups for customer's age:\n",
    "    - 'young' for ages < 22,\n",
    "    - 'adult' for ages 22 to 64,\n",
    "    - 'old' for ages > 64.\n",
    "    Age divisions are based on the median age of entering workforce and retiring in 2020, cited from OECDiLibrary.\n",
    "    \"\"\"\n",
    "    if age < 22:\n",
    "        return 'young'\n",
    "    if 22 <= age <= 64:\n",
    "        return 'adult'\n",
    "    if age > 64:\n",
    "        return 'old'\n"
   ]
  },
  {
   "cell_type": "code",
   "execution_count": 46,
   "metadata": {},
   "outputs": [
    {
     "name": "stdout",
     "output_type": "stream",
     "text": [
      "young\n",
      "adult\n",
      "adult\n",
      "old\n",
      "young\n",
      "old\n"
     ]
    }
   ],
   "source": [
    "# Lakukan pengujian untuk melihat apakah fungsi Anda bekerja atau tidak\n",
    "print(age_group(0))\n",
    "print(age_group(30))\n",
    "print(age_group(60.01))\n",
    "print(age_group(10000))\n",
    "print(age_group(data['dob_years'].min()))\n",
    "print(age_group(data['dob_years'].max()))"
   ]
  },
  {
   "cell_type": "code",
   "execution_count": 47,
   "metadata": {},
   "outputs": [],
   "source": [
    "# Buatlah kolom baru berdasarkan fungsi\n",
    "data['age_group'] = data['dob_years'].apply(age_group)\n"
   ]
  },
  {
   "cell_type": "code",
   "execution_count": 48,
   "metadata": {},
   "outputs": [
    {
     "name": "stdout",
     "output_type": "stream",
     "text": [
      "adult    20383\n",
      "old        895\n",
      "young      176\n",
      "Name: age_group, dtype: int64\n"
     ]
    },
    {
     "data": {
      "text/html": [
       "<div>\n",
       "<style scoped>\n",
       "    .dataframe tbody tr th:only-of-type {\n",
       "        vertical-align: middle;\n",
       "    }\n",
       "\n",
       "    .dataframe tbody tr th {\n",
       "        vertical-align: top;\n",
       "    }\n",
       "\n",
       "    .dataframe thead th {\n",
       "        text-align: right;\n",
       "    }\n",
       "</style>\n",
       "<table border=\"1\" class=\"dataframe\">\n",
       "  <thead>\n",
       "    <tr style=\"text-align: right;\">\n",
       "      <th></th>\n",
       "      <th>children</th>\n",
       "      <th>days_employed</th>\n",
       "      <th>dob_years</th>\n",
       "      <th>education</th>\n",
       "      <th>education_id</th>\n",
       "      <th>family_status</th>\n",
       "      <th>family_status_id</th>\n",
       "      <th>gender</th>\n",
       "      <th>income_type</th>\n",
       "      <th>debt</th>\n",
       "      <th>total_income</th>\n",
       "      <th>purpose</th>\n",
       "      <th>age_group</th>\n",
       "    </tr>\n",
       "  </thead>\n",
       "  <tbody>\n",
       "    <tr>\n",
       "      <th>21515</th>\n",
       "      <td>1</td>\n",
       "      <td>-467.685130</td>\n",
       "      <td>28</td>\n",
       "      <td>secondary education</td>\n",
       "      <td>1</td>\n",
       "      <td>married</td>\n",
       "      <td>0</td>\n",
       "      <td>F</td>\n",
       "      <td>employee</td>\n",
       "      <td>1</td>\n",
       "      <td>17517.812</td>\n",
       "      <td>to become educated</td>\n",
       "      <td>adult</td>\n",
       "    </tr>\n",
       "    <tr>\n",
       "      <th>21516</th>\n",
       "      <td>0</td>\n",
       "      <td>-914.391429</td>\n",
       "      <td>42</td>\n",
       "      <td>bachelor's degree</td>\n",
       "      <td>0</td>\n",
       "      <td>married</td>\n",
       "      <td>0</td>\n",
       "      <td>F</td>\n",
       "      <td>business</td>\n",
       "      <td>0</td>\n",
       "      <td>51649.244</td>\n",
       "      <td>purchase of my own house</td>\n",
       "      <td>adult</td>\n",
       "    </tr>\n",
       "    <tr>\n",
       "      <th>21517</th>\n",
       "      <td>0</td>\n",
       "      <td>-404.679034</td>\n",
       "      <td>42</td>\n",
       "      <td>bachelor's degree</td>\n",
       "      <td>0</td>\n",
       "      <td>civil partnership</td>\n",
       "      <td>1</td>\n",
       "      <td>F</td>\n",
       "      <td>business</td>\n",
       "      <td>0</td>\n",
       "      <td>28489.529</td>\n",
       "      <td>buying my own car</td>\n",
       "      <td>adult</td>\n",
       "    </tr>\n",
       "    <tr>\n",
       "      <th>21518</th>\n",
       "      <td>0</td>\n",
       "      <td>373995.710838</td>\n",
       "      <td>59</td>\n",
       "      <td>secondary education</td>\n",
       "      <td>1</td>\n",
       "      <td>married</td>\n",
       "      <td>0</td>\n",
       "      <td>F</td>\n",
       "      <td>retiree</td>\n",
       "      <td>0</td>\n",
       "      <td>24618.344</td>\n",
       "      <td>purchase of a car</td>\n",
       "      <td>adult</td>\n",
       "    </tr>\n",
       "    <tr>\n",
       "      <th>21519</th>\n",
       "      <td>1</td>\n",
       "      <td>-2351.431934</td>\n",
       "      <td>37</td>\n",
       "      <td>graduate degree</td>\n",
       "      <td>4</td>\n",
       "      <td>divorced</td>\n",
       "      <td>3</td>\n",
       "      <td>M</td>\n",
       "      <td>employee</td>\n",
       "      <td>0</td>\n",
       "      <td>18551.846</td>\n",
       "      <td>buy commercial real estate</td>\n",
       "      <td>adult</td>\n",
       "    </tr>\n",
       "    <tr>\n",
       "      <th>21520</th>\n",
       "      <td>1</td>\n",
       "      <td>-4529.316663</td>\n",
       "      <td>43</td>\n",
       "      <td>secondary education</td>\n",
       "      <td>1</td>\n",
       "      <td>civil partnership</td>\n",
       "      <td>1</td>\n",
       "      <td>F</td>\n",
       "      <td>business</td>\n",
       "      <td>0</td>\n",
       "      <td>35966.698</td>\n",
       "      <td>housing transactions</td>\n",
       "      <td>adult</td>\n",
       "    </tr>\n",
       "    <tr>\n",
       "      <th>21521</th>\n",
       "      <td>0</td>\n",
       "      <td>343937.404131</td>\n",
       "      <td>67</td>\n",
       "      <td>secondary education</td>\n",
       "      <td>1</td>\n",
       "      <td>married</td>\n",
       "      <td>0</td>\n",
       "      <td>F</td>\n",
       "      <td>retiree</td>\n",
       "      <td>0</td>\n",
       "      <td>24959.969</td>\n",
       "      <td>purchase of a car</td>\n",
       "      <td>old</td>\n",
       "    </tr>\n",
       "    <tr>\n",
       "      <th>21522</th>\n",
       "      <td>1</td>\n",
       "      <td>-2113.346888</td>\n",
       "      <td>38</td>\n",
       "      <td>secondary education</td>\n",
       "      <td>1</td>\n",
       "      <td>civil partnership</td>\n",
       "      <td>1</td>\n",
       "      <td>M</td>\n",
       "      <td>employee</td>\n",
       "      <td>1</td>\n",
       "      <td>14347.610</td>\n",
       "      <td>property</td>\n",
       "      <td>adult</td>\n",
       "    </tr>\n",
       "    <tr>\n",
       "      <th>21523</th>\n",
       "      <td>3</td>\n",
       "      <td>-3112.481705</td>\n",
       "      <td>38</td>\n",
       "      <td>secondary education</td>\n",
       "      <td>1</td>\n",
       "      <td>married</td>\n",
       "      <td>0</td>\n",
       "      <td>M</td>\n",
       "      <td>employee</td>\n",
       "      <td>1</td>\n",
       "      <td>39054.888</td>\n",
       "      <td>buying my own car</td>\n",
       "      <td>adult</td>\n",
       "    </tr>\n",
       "    <tr>\n",
       "      <th>21524</th>\n",
       "      <td>2</td>\n",
       "      <td>-1984.507589</td>\n",
       "      <td>40</td>\n",
       "      <td>secondary education</td>\n",
       "      <td>1</td>\n",
       "      <td>married</td>\n",
       "      <td>0</td>\n",
       "      <td>F</td>\n",
       "      <td>employee</td>\n",
       "      <td>0</td>\n",
       "      <td>13127.587</td>\n",
       "      <td>to buy a car</td>\n",
       "      <td>adult</td>\n",
       "    </tr>\n",
       "  </tbody>\n",
       "</table>\n",
       "</div>"
      ],
      "text/plain": [
       "       children  days_employed  dob_years            education  education_id  \\\n",
       "21515         1    -467.685130         28  secondary education             1   \n",
       "21516         0    -914.391429         42    bachelor's degree             0   \n",
       "21517         0    -404.679034         42    bachelor's degree             0   \n",
       "21518         0  373995.710838         59  secondary education             1   \n",
       "21519         1   -2351.431934         37      graduate degree             4   \n",
       "21520         1   -4529.316663         43  secondary education             1   \n",
       "21521         0  343937.404131         67  secondary education             1   \n",
       "21522         1   -2113.346888         38  secondary education             1   \n",
       "21523         3   -3112.481705         38  secondary education             1   \n",
       "21524         2   -1984.507589         40  secondary education             1   \n",
       "\n",
       "           family_status  family_status_id gender income_type  debt  \\\n",
       "21515            married                 0      F    employee     1   \n",
       "21516            married                 0      F    business     0   \n",
       "21517  civil partnership                 1      F    business     0   \n",
       "21518            married                 0      F     retiree     0   \n",
       "21519           divorced                 3      M    employee     0   \n",
       "21520  civil partnership                 1      F    business     0   \n",
       "21521            married                 0      F     retiree     0   \n",
       "21522  civil partnership                 1      M    employee     1   \n",
       "21523            married                 0      M    employee     1   \n",
       "21524            married                 0      F    employee     0   \n",
       "\n",
       "       total_income                     purpose age_group  \n",
       "21515     17517.812          to become educated     adult  \n",
       "21516     51649.244    purchase of my own house     adult  \n",
       "21517     28489.529           buying my own car     adult  \n",
       "21518     24618.344           purchase of a car     adult  \n",
       "21519     18551.846  buy commercial real estate     adult  \n",
       "21520     35966.698        housing transactions     adult  \n",
       "21521     24959.969           purchase of a car       old  \n",
       "21522     14347.610                    property     adult  \n",
       "21523     39054.888           buying my own car     adult  \n",
       "21524     13127.587                to buy a car     adult  "
      ]
     },
     "execution_count": 48,
     "metadata": {},
     "output_type": "execute_result"
    }
   ],
   "source": [
    "# Periksa bagaimana nilai di dalam kolom baru\n",
    "print(data['age_group'].value_counts())\n",
    "data.tail(10)\n"
   ]
  },
  {
   "cell_type": "markdown",
   "metadata": {},
   "source": [
    "Faktor dalam data yang mungkin memengaruhi pendapatan adalah:\n",
    "1. Pendidikan (`education`)\n",
    "1. Pekerjaan (`income_type`)\n",
    "1. Gender (`gender`)\n",
    "\n",
    "Faktor dalam data yang mungkin dipengaruhi oleh pendapatan adalah:\n",
    "1. Jumlah anak (`children`)\n",
    "1. Jumlah hari kerja (`days_employed`), tetapi tidak dapat digunakan karena semua nilainya salah/hilang\n",
    "1. Status pernikahan (`family_status`)\n",
    "1. Riwayat keterlambatan melunasi utang (`debt`)\n"
   ]
  },
  {
   "cell_type": "code",
   "execution_count": 49,
   "metadata": {},
   "outputs": [
    {
     "data": {
      "text/html": [
       "<div>\n",
       "<style scoped>\n",
       "    .dataframe tbody tr th:only-of-type {\n",
       "        vertical-align: middle;\n",
       "    }\n",
       "\n",
       "    .dataframe tbody tr th {\n",
       "        vertical-align: top;\n",
       "    }\n",
       "\n",
       "    .dataframe thead th {\n",
       "        text-align: right;\n",
       "    }\n",
       "</style>\n",
       "<table border=\"1\" class=\"dataframe\">\n",
       "  <thead>\n",
       "    <tr style=\"text-align: right;\">\n",
       "      <th></th>\n",
       "      <th>children</th>\n",
       "      <th>days_employed</th>\n",
       "      <th>dob_years</th>\n",
       "      <th>education</th>\n",
       "      <th>education_id</th>\n",
       "      <th>family_status</th>\n",
       "      <th>family_status_id</th>\n",
       "      <th>gender</th>\n",
       "      <th>income_type</th>\n",
       "      <th>debt</th>\n",
       "      <th>total_income</th>\n",
       "      <th>purpose</th>\n",
       "      <th>age_group</th>\n",
       "    </tr>\n",
       "  </thead>\n",
       "  <tbody>\n",
       "    <tr>\n",
       "      <th>0</th>\n",
       "      <td>1</td>\n",
       "      <td>-8437.673028</td>\n",
       "      <td>42</td>\n",
       "      <td>bachelor's degree</td>\n",
       "      <td>0</td>\n",
       "      <td>married</td>\n",
       "      <td>0</td>\n",
       "      <td>F</td>\n",
       "      <td>employee</td>\n",
       "      <td>0</td>\n",
       "      <td>40620.102</td>\n",
       "      <td>purchase of the house</td>\n",
       "      <td>adult</td>\n",
       "    </tr>\n",
       "    <tr>\n",
       "      <th>1</th>\n",
       "      <td>1</td>\n",
       "      <td>-4024.803754</td>\n",
       "      <td>36</td>\n",
       "      <td>secondary education</td>\n",
       "      <td>1</td>\n",
       "      <td>married</td>\n",
       "      <td>0</td>\n",
       "      <td>F</td>\n",
       "      <td>employee</td>\n",
       "      <td>0</td>\n",
       "      <td>17932.802</td>\n",
       "      <td>car purchase</td>\n",
       "      <td>adult</td>\n",
       "    </tr>\n",
       "    <tr>\n",
       "      <th>2</th>\n",
       "      <td>0</td>\n",
       "      <td>-5623.422610</td>\n",
       "      <td>33</td>\n",
       "      <td>secondary education</td>\n",
       "      <td>1</td>\n",
       "      <td>married</td>\n",
       "      <td>0</td>\n",
       "      <td>M</td>\n",
       "      <td>employee</td>\n",
       "      <td>0</td>\n",
       "      <td>23341.752</td>\n",
       "      <td>purchase of the house</td>\n",
       "      <td>adult</td>\n",
       "    </tr>\n",
       "    <tr>\n",
       "      <th>3</th>\n",
       "      <td>3</td>\n",
       "      <td>-4124.747207</td>\n",
       "      <td>32</td>\n",
       "      <td>secondary education</td>\n",
       "      <td>1</td>\n",
       "      <td>married</td>\n",
       "      <td>0</td>\n",
       "      <td>M</td>\n",
       "      <td>employee</td>\n",
       "      <td>0</td>\n",
       "      <td>42820.568</td>\n",
       "      <td>supplementary education</td>\n",
       "      <td>adult</td>\n",
       "    </tr>\n",
       "    <tr>\n",
       "      <th>4</th>\n",
       "      <td>0</td>\n",
       "      <td>340266.072047</td>\n",
       "      <td>53</td>\n",
       "      <td>secondary education</td>\n",
       "      <td>1</td>\n",
       "      <td>civil partnership</td>\n",
       "      <td>1</td>\n",
       "      <td>F</td>\n",
       "      <td>retiree</td>\n",
       "      <td>0</td>\n",
       "      <td>25378.572</td>\n",
       "      <td>to have a wedding</td>\n",
       "      <td>adult</td>\n",
       "    </tr>\n",
       "    <tr>\n",
       "      <th>5</th>\n",
       "      <td>0</td>\n",
       "      <td>-926.185831</td>\n",
       "      <td>27</td>\n",
       "      <td>bachelor's degree</td>\n",
       "      <td>0</td>\n",
       "      <td>civil partnership</td>\n",
       "      <td>1</td>\n",
       "      <td>M</td>\n",
       "      <td>business</td>\n",
       "      <td>0</td>\n",
       "      <td>40922.170</td>\n",
       "      <td>purchase of the house</td>\n",
       "      <td>adult</td>\n",
       "    </tr>\n",
       "    <tr>\n",
       "      <th>6</th>\n",
       "      <td>0</td>\n",
       "      <td>-2879.202052</td>\n",
       "      <td>43</td>\n",
       "      <td>bachelor's degree</td>\n",
       "      <td>0</td>\n",
       "      <td>married</td>\n",
       "      <td>0</td>\n",
       "      <td>F</td>\n",
       "      <td>business</td>\n",
       "      <td>0</td>\n",
       "      <td>38484.156</td>\n",
       "      <td>housing transactions</td>\n",
       "      <td>adult</td>\n",
       "    </tr>\n",
       "    <tr>\n",
       "      <th>7</th>\n",
       "      <td>0</td>\n",
       "      <td>-152.779569</td>\n",
       "      <td>50</td>\n",
       "      <td>secondary education</td>\n",
       "      <td>1</td>\n",
       "      <td>married</td>\n",
       "      <td>0</td>\n",
       "      <td>M</td>\n",
       "      <td>employee</td>\n",
       "      <td>0</td>\n",
       "      <td>21731.829</td>\n",
       "      <td>education</td>\n",
       "      <td>adult</td>\n",
       "    </tr>\n",
       "    <tr>\n",
       "      <th>8</th>\n",
       "      <td>2</td>\n",
       "      <td>-6929.865299</td>\n",
       "      <td>35</td>\n",
       "      <td>bachelor's degree</td>\n",
       "      <td>0</td>\n",
       "      <td>civil partnership</td>\n",
       "      <td>1</td>\n",
       "      <td>F</td>\n",
       "      <td>employee</td>\n",
       "      <td>0</td>\n",
       "      <td>15337.093</td>\n",
       "      <td>having a wedding</td>\n",
       "      <td>adult</td>\n",
       "    </tr>\n",
       "    <tr>\n",
       "      <th>9</th>\n",
       "      <td>0</td>\n",
       "      <td>-2188.756445</td>\n",
       "      <td>41</td>\n",
       "      <td>secondary education</td>\n",
       "      <td>1</td>\n",
       "      <td>married</td>\n",
       "      <td>0</td>\n",
       "      <td>M</td>\n",
       "      <td>employee</td>\n",
       "      <td>0</td>\n",
       "      <td>23108.150</td>\n",
       "      <td>purchase of the house for my family</td>\n",
       "      <td>adult</td>\n",
       "    </tr>\n",
       "    <tr>\n",
       "      <th>10</th>\n",
       "      <td>2</td>\n",
       "      <td>-4171.483647</td>\n",
       "      <td>36</td>\n",
       "      <td>bachelor's degree</td>\n",
       "      <td>0</td>\n",
       "      <td>married</td>\n",
       "      <td>0</td>\n",
       "      <td>M</td>\n",
       "      <td>business</td>\n",
       "      <td>0</td>\n",
       "      <td>18230.959</td>\n",
       "      <td>buy real estate</td>\n",
       "      <td>adult</td>\n",
       "    </tr>\n",
       "    <tr>\n",
       "      <th>11</th>\n",
       "      <td>0</td>\n",
       "      <td>-792.701887</td>\n",
       "      <td>40</td>\n",
       "      <td>secondary education</td>\n",
       "      <td>1</td>\n",
       "      <td>married</td>\n",
       "      <td>0</td>\n",
       "      <td>F</td>\n",
       "      <td>employee</td>\n",
       "      <td>0</td>\n",
       "      <td>12331.077</td>\n",
       "      <td>buy commercial real estate</td>\n",
       "      <td>adult</td>\n",
       "    </tr>\n",
       "    <tr>\n",
       "      <th>13</th>\n",
       "      <td>0</td>\n",
       "      <td>-1846.641941</td>\n",
       "      <td>54</td>\n",
       "      <td>some college</td>\n",
       "      <td>2</td>\n",
       "      <td>married</td>\n",
       "      <td>0</td>\n",
       "      <td>F</td>\n",
       "      <td>employee</td>\n",
       "      <td>0</td>\n",
       "      <td>20873.317</td>\n",
       "      <td>car purchase</td>\n",
       "      <td>adult</td>\n",
       "    </tr>\n",
       "    <tr>\n",
       "      <th>14</th>\n",
       "      <td>0</td>\n",
       "      <td>-1844.956182</td>\n",
       "      <td>56</td>\n",
       "      <td>bachelor's degree</td>\n",
       "      <td>0</td>\n",
       "      <td>civil partnership</td>\n",
       "      <td>1</td>\n",
       "      <td>F</td>\n",
       "      <td>business</td>\n",
       "      <td>1</td>\n",
       "      <td>26420.466</td>\n",
       "      <td>buy residential real estate</td>\n",
       "      <td>adult</td>\n",
       "    </tr>\n",
       "    <tr>\n",
       "      <th>15</th>\n",
       "      <td>1</td>\n",
       "      <td>-972.364419</td>\n",
       "      <td>26</td>\n",
       "      <td>secondary education</td>\n",
       "      <td>1</td>\n",
       "      <td>married</td>\n",
       "      <td>0</td>\n",
       "      <td>F</td>\n",
       "      <td>employee</td>\n",
       "      <td>0</td>\n",
       "      <td>18691.345</td>\n",
       "      <td>construction of own property</td>\n",
       "      <td>adult</td>\n",
       "    </tr>\n",
       "  </tbody>\n",
       "</table>\n",
       "</div>"
      ],
      "text/plain": [
       "    children  days_employed  dob_years            education  education_id  \\\n",
       "0          1   -8437.673028         42    bachelor's degree             0   \n",
       "1          1   -4024.803754         36  secondary education             1   \n",
       "2          0   -5623.422610         33  secondary education             1   \n",
       "3          3   -4124.747207         32  secondary education             1   \n",
       "4          0  340266.072047         53  secondary education             1   \n",
       "5          0    -926.185831         27    bachelor's degree             0   \n",
       "6          0   -2879.202052         43    bachelor's degree             0   \n",
       "7          0    -152.779569         50  secondary education             1   \n",
       "8          2   -6929.865299         35    bachelor's degree             0   \n",
       "9          0   -2188.756445         41  secondary education             1   \n",
       "10         2   -4171.483647         36    bachelor's degree             0   \n",
       "11         0    -792.701887         40  secondary education             1   \n",
       "13         0   -1846.641941         54         some college             2   \n",
       "14         0   -1844.956182         56    bachelor's degree             0   \n",
       "15         1    -972.364419         26  secondary education             1   \n",
       "\n",
       "        family_status  family_status_id gender income_type  debt  \\\n",
       "0             married                 0      F    employee     0   \n",
       "1             married                 0      F    employee     0   \n",
       "2             married                 0      M    employee     0   \n",
       "3             married                 0      M    employee     0   \n",
       "4   civil partnership                 1      F     retiree     0   \n",
       "5   civil partnership                 1      M    business     0   \n",
       "6             married                 0      F    business     0   \n",
       "7             married                 0      M    employee     0   \n",
       "8   civil partnership                 1      F    employee     0   \n",
       "9             married                 0      M    employee     0   \n",
       "10            married                 0      M    business     0   \n",
       "11            married                 0      F    employee     0   \n",
       "13            married                 0      F    employee     0   \n",
       "14  civil partnership                 1      F    business     1   \n",
       "15            married                 0      F    employee     0   \n",
       "\n",
       "    total_income                              purpose age_group  \n",
       "0      40620.102                purchase of the house     adult  \n",
       "1      17932.802                         car purchase     adult  \n",
       "2      23341.752                purchase of the house     adult  \n",
       "3      42820.568              supplementary education     adult  \n",
       "4      25378.572                    to have a wedding     adult  \n",
       "5      40922.170                purchase of the house     adult  \n",
       "6      38484.156                 housing transactions     adult  \n",
       "7      21731.829                            education     adult  \n",
       "8      15337.093                     having a wedding     adult  \n",
       "9      23108.150  purchase of the house for my family     adult  \n",
       "10     18230.959                      buy real estate     adult  \n",
       "11     12331.077           buy commercial real estate     adult  \n",
       "13     20873.317                         car purchase     adult  \n",
       "14     26420.466          buy residential real estate     adult  \n",
       "15     18691.345         construction of own property     adult  "
      ]
     },
     "execution_count": 49,
     "metadata": {},
     "output_type": "execute_result"
    }
   ],
   "source": [
    "# Buat tabel tanpa nilai yang hilang dan tampilkan beberapa barisnya untuk memastikan semuanya berjalan dengan baik\n",
    "data_no_na = data.dropna()\n",
    "data_no_na.head(15)"
   ]
  },
  {
   "cell_type": "code",
   "execution_count": 50,
   "metadata": {
    "scrolled": true
   },
   "outputs": [
    {
     "name": "stdout",
     "output_type": "stream",
     "text": [
      "             education  total_income\n",
      "0    bachelor's degree  33142.802434\n",
      "1      graduate degree  27960.024667\n",
      "2    primary education  21144.882211\n",
      "3  secondary education  24594.503037\n",
      "4         some college  29045.443644\n",
      "\n",
      "                   income_type  total_income\n",
      "0                     business  32386.793835\n",
      "1                civil servant  27343.729582\n",
      "2                     employee  25820.841683\n",
      "3                 entrepreneur  79866.103000\n",
      "4  paternity / maternity leave   8612.661000\n",
      "5                      retiree  21940.394503\n",
      "6                      student  15712.260000\n",
      "7                   unemployed  21014.360500\n",
      "\n",
      "   children  total_income\n",
      "0         0  26419.206510\n",
      "1         1  27396.494050\n",
      "2         2  27496.357898\n",
      "3         3  29322.623993\n",
      "4         4  27289.829647\n",
      "5         5  27268.847250\n",
      "\n",
      "       family_status  total_income\n",
      "0  civil partnership  26694.428597\n",
      "1           divorced  27189.354550\n",
      "2            married  27041.784689\n",
      "3          unmarried  26934.069805\n",
      "4    widow / widower  22984.208556\n",
      "\n",
      "  gender  total_income\n",
      "0      F  24655.604757\n",
      "1      M  30907.144369\n",
      "2    XNA  32624.825000\n",
      "\n",
      "   debt  total_income\n",
      "0     0  26848.661065\n",
      "1     1  26096.143537\n",
      "\n"
     ]
    }
   ],
   "source": [
    "# Perhatikan nilai rata-rata untuk pendapatan berdasarkan faktor yang telah Anda identifikasi\n",
    "factors_list = ['education', 'income_type', 'children', 'family_status', 'gender', 'debt']\n",
    "\n",
    "for factor in factors_list:\n",
    "        print(data_no_na.groupby(factor)['total_income'].mean().reset_index())\n",
    "        print()\n"
   ]
  },
  {
   "cell_type": "code",
   "execution_count": 51,
   "metadata": {
    "scrolled": true
   },
   "outputs": [
    {
     "name": "stdout",
     "output_type": "stream",
     "text": [
      "             education  total_income\n",
      "0    bachelor's degree    28054.5310\n",
      "1      graduate degree    25161.5835\n",
      "2    primary education    18741.9760\n",
      "3  secondary education    21836.5830\n",
      "4         some college    25618.4640\n",
      "\n",
      "                   income_type  total_income\n",
      "0                     business    27577.2720\n",
      "1                civil servant    24071.6695\n",
      "2                     employee    22815.1035\n",
      "3                 entrepreneur    79866.1030\n",
      "4  paternity / maternity leave     8612.6610\n",
      "5                      retiree    18962.3180\n",
      "6                      student    15712.2600\n",
      "7                   unemployed    21014.3605\n",
      "\n",
      "   children  total_income\n",
      "0         0    23032.5720\n",
      "1         1    23670.8840\n",
      "2         2    23143.7700\n",
      "3         3    25155.4480\n",
      "4         4    24981.6340\n",
      "5         5    29816.2255\n",
      "\n",
      "       family_status  total_income\n",
      "0  civil partnership     23186.534\n",
      "1           divorced     23515.096\n",
      "2            married     23389.540\n",
      "3          unmarried     23149.028\n",
      "4    widow / widower     20514.190\n",
      "\n",
      "  gender  total_income\n",
      "0      F     21464.845\n",
      "1      M     26834.295\n",
      "2    XNA     32624.825\n",
      "\n",
      "   debt  total_income\n",
      "0     0     23225.905\n",
      "1     1     22928.480\n",
      "\n"
     ]
    }
   ],
   "source": [
    "# Perhatikan nilai median untuk pendapatan berdasarkan faktor yang telah Anda identifikasi\n",
    "factors_list = ['education', 'income_type', 'children', 'family_status', 'gender', 'debt']\n",
    "\n",
    "for factor in factors_list:\n",
    "        print(data_no_na.groupby(factor)['total_income'].median().reset_index())\n",
    "        print()\n"
   ]
  },
  {
   "cell_type": "markdown",
   "metadata": {},
   "source": [
    "Berdasarkan data di atas, faktor yang paling menentukan pendapatan nasabah adalah `education` dan `income_type`, terbukti dengan nilai rata-rata/median `total_income` yang berbeda jauh dalam setiap kelompok. Nilai yang akan digunakan untuk mengisi *missing values* adalah median per income_type. Median dipilih karena nilai `total_income` memiliki outlier. `income_type` dipilih karena dianggap memiliki lebih berkaitan langsung dengan pendapatan daripada `education`.\n"
   ]
  },
  {
   "cell_type": "code",
   "execution_count": 52,
   "metadata": {},
   "outputs": [],
   "source": [
    "#  Tulis fungsi yang akan kita gunakan untuk mengisi nilai yang hilang\n",
    "\n",
    "def fill_missing_values(dataframe, agg_column, value_column):\n",
    "    \"\"\"\n",
    "    Fungsi untuk mengisi nilai `value_column` yang hilang di `dataframe`\n",
    "    dengan mengambil median dari `value_column` \n",
    "    untuk setiap kelompok yang ada di bawah kolom `agg_column`.\n",
    "    \"\"\"\n",
    "    grouped_values = dataframe.groupby(agg_column)[value_column].median().reset_index()\n",
    "    size = len(grouped_values)\n",
    "    for i in range(size):\n",
    "        group = grouped_values.loc[i, agg_column]\n",
    "        value = grouped_values.loc[i, value_column]\n",
    "        dataframe.loc[(dataframe[agg_column] == group) & (dataframe[value_column].isna()), value_column] = value\n",
    "    return dataframe\n"
   ]
  },
  {
   "cell_type": "code",
   "execution_count": 53,
   "metadata": {},
   "outputs": [],
   "source": [
    "# Terapkan fungsi tersebut ke setiap baris\n",
    "data = fill_missing_values(data, 'income_type', 'total_income')"
   ]
  },
  {
   "cell_type": "code",
   "execution_count": 54,
   "metadata": {},
   "outputs": [
    {
     "data": {
      "text/html": [
       "<div>\n",
       "<style scoped>\n",
       "    .dataframe tbody tr th:only-of-type {\n",
       "        vertical-align: middle;\n",
       "    }\n",
       "\n",
       "    .dataframe tbody tr th {\n",
       "        vertical-align: top;\n",
       "    }\n",
       "\n",
       "    .dataframe thead th {\n",
       "        text-align: right;\n",
       "    }\n",
       "</style>\n",
       "<table border=\"1\" class=\"dataframe\">\n",
       "  <thead>\n",
       "    <tr style=\"text-align: right;\">\n",
       "      <th></th>\n",
       "      <th>income_type</th>\n",
       "      <th>total_income</th>\n",
       "    </tr>\n",
       "  </thead>\n",
       "  <tbody>\n",
       "    <tr>\n",
       "      <th>0</th>\n",
       "      <td>True</td>\n",
       "      <td>True</td>\n",
       "    </tr>\n",
       "    <tr>\n",
       "      <th>1</th>\n",
       "      <td>True</td>\n",
       "      <td>True</td>\n",
       "    </tr>\n",
       "    <tr>\n",
       "      <th>2</th>\n",
       "      <td>True</td>\n",
       "      <td>True</td>\n",
       "    </tr>\n",
       "    <tr>\n",
       "      <th>3</th>\n",
       "      <td>True</td>\n",
       "      <td>True</td>\n",
       "    </tr>\n",
       "    <tr>\n",
       "      <th>4</th>\n",
       "      <td>True</td>\n",
       "      <td>True</td>\n",
       "    </tr>\n",
       "    <tr>\n",
       "      <th>5</th>\n",
       "      <td>True</td>\n",
       "      <td>True</td>\n",
       "    </tr>\n",
       "    <tr>\n",
       "      <th>6</th>\n",
       "      <td>True</td>\n",
       "      <td>True</td>\n",
       "    </tr>\n",
       "    <tr>\n",
       "      <th>7</th>\n",
       "      <td>True</td>\n",
       "      <td>True</td>\n",
       "    </tr>\n",
       "  </tbody>\n",
       "</table>\n",
       "</div>"
      ],
      "text/plain": [
       "   income_type  total_income\n",
       "0         True          True\n",
       "1         True          True\n",
       "2         True          True\n",
       "3         True          True\n",
       "4         True          True\n",
       "5         True          True\n",
       "6         True          True\n",
       "7         True          True"
      ]
     },
     "execution_count": 54,
     "metadata": {},
     "output_type": "execute_result"
    }
   ],
   "source": [
    "# Periksa apakah kita mendapatkan kesalahan\n",
    "# Karena nilai kosong diisi menggunakan median,\n",
    "# nilai median di data tanpa NaN dan data yang telah diisi akan sama.\n",
    "# Jika tidak ada kesalahan, kode di bawah akan bernilai True:\n",
    "total_income_median_old = data_no_na.groupby('income_type')['total_income'].median().reset_index()\n",
    "total_income_median_new = data.groupby('income_type')['total_income'].median().reset_index()\n",
    "total_income_median_old == total_income_median_new\n"
   ]
  },
  {
   "cell_type": "code",
   "execution_count": 55,
   "metadata": {},
   "outputs": [],
   "source": [
    "# Ganti nilai yang hilang jika terdapat kesalahan\n",
    "# Tidak ada."
   ]
  },
  {
   "cell_type": "markdown",
   "metadata": {},
   "source": [
    "Memeriksa keutuhan jumlah data:"
   ]
  },
  {
   "cell_type": "code",
   "execution_count": 56,
   "metadata": {},
   "outputs": [
    {
     "data": {
      "text/plain": [
       "True"
      ]
     },
     "execution_count": 56,
     "metadata": {},
     "output_type": "execute_result"
    }
   ],
   "source": [
    "# Periksa jumlah entri di kolom\n",
    "# Banyaknya nilai di `total_income` sama dengan di kolom lain/seluruh dataframe:\n",
    "len(data['total_income']) == len(data)\n"
   ]
  },
  {
   "cell_type": "markdown",
   "metadata": {},
   "source": [
    "###  Memperbaiki nilai di `days_employed`"
   ]
  },
  {
   "cell_type": "markdown",
   "metadata": {},
   "source": [
    "Faktor dalam data yang mungkin memengaruhi jumlah hari kerja adalah:\n",
    "1. Pendidikan (`education`)\n",
    "1. Gender (`gender`)\n",
    "1. Pekerjaan (`income_type`)\n",
    "\n",
    "Faktor dalam data yang mungkin dipengaruhi oleh pendapatan adalah:\n",
    "1. Jumlah anak (`children`)\n",
    "1. Status pernikahan (`family_status`)\n",
    "1. Pendapatan per bulan (`total_income`), tetapi tidak dapat digunakan karena awalnya hilang\n",
    "1. Kelompok usia (`age_group`)"
   ]
  },
  {
   "cell_type": "code",
   "execution_count": 57,
   "metadata": {
    "scrolled": true
   },
   "outputs": [
    {
     "name": "stdout",
     "output_type": "stream",
     "text": [
      "             education  days_employed\n",
      "0    bachelor's degree   38323.055702\n",
      "1      graduate degree  116630.048157\n",
      "2    primary education  127842.088750\n",
      "3  secondary education   72538.686698\n",
      "4         some college   17692.508357\n",
      "\n",
      "                   income_type  days_employed\n",
      "0                     business   -2111.524398\n",
      "1                civil servant   -3399.896902\n",
      "2                     employee   -2326.499216\n",
      "3                 entrepreneur    -520.848083\n",
      "4  paternity / maternity leave   -3296.759962\n",
      "5                      retiree  365003.491245\n",
      "6                      student    -578.751554\n",
      "7                   unemployed  366413.652744\n",
      "\n",
      "   children  days_employed\n",
      "0         0   88389.307573\n",
      "1         1   19020.664653\n",
      "2         2    1274.234500\n",
      "3         3    5075.166414\n",
      "4         4    9631.442976\n",
      "5         5   -1432.348601\n",
      "\n",
      "       family_status  days_employed\n",
      "0  civil partnership   54587.019762\n",
      "1           divorced   64819.140232\n",
      "2            married   59202.282275\n",
      "3          unmarried   43834.346331\n",
      "4    widow / widower  202957.656283\n",
      "\n",
      "  age_group  days_employed\n",
      "0     adult   52453.026438\n",
      "1       old  312933.276967\n",
      "2     young    -695.547762\n",
      "\n"
     ]
    }
   ],
   "source": [
    "# Distribusi rata-rata dari `days_employed` berdasarkan parameter yang Anda identifikasi\n",
    "factors_list = ['education', 'income_type', 'children', 'family_status', 'age_group']\n",
    "\n",
    "for factor in factors_list:\n",
    "        print(data_no_na.groupby(factor)['days_employed'].mean().reset_index())\n",
    "        print()\n"
   ]
  },
  {
   "cell_type": "code",
   "execution_count": 58,
   "metadata": {
    "pycharm": {
     "name": "#%%\n"
    },
    "scrolled": true
   },
   "outputs": [
    {
     "name": "stdout",
     "output_type": "stream",
     "text": [
      "             education  days_employed\n",
      "0    bachelor's degree   -1342.373432\n",
      "1      graduate degree   -1380.316041\n",
      "2    primary education    -551.062561\n",
      "3  secondary education   -1184.327177\n",
      "4         some college   -1046.437583\n",
      "\n",
      "                   income_type  days_employed\n",
      "0                     business   -1547.382223\n",
      "1                civil servant   -2689.368353\n",
      "2                     employee   -1574.202821\n",
      "3                 entrepreneur    -520.848083\n",
      "4  paternity / maternity leave   -3296.759962\n",
      "5                      retiree  365213.306266\n",
      "6                      student    -578.751554\n",
      "7                   unemployed  366413.652744\n",
      "\n",
      "   children  days_employed\n",
      "0         0   -1036.804889\n",
      "1         1   -1416.141843\n",
      "2         2   -1634.342227\n",
      "3         3   -1681.245021\n",
      "4         4   -1866.426406\n",
      "5         5   -1231.571486\n",
      "\n",
      "       family_status  days_employed\n",
      "0  civil partnership   -1197.176853\n",
      "1           divorced   -1146.122484\n",
      "2            married   -1332.196271\n",
      "3          unmarried   -1015.245549\n",
      "4    widow / widower  337017.713307\n",
      "\n",
      "  age_group  days_employed\n",
      "0     adult   -1291.990105\n",
      "1       old  360304.232308\n",
      "2     young    -639.051245\n",
      "\n"
     ]
    }
   ],
   "source": [
    "# Distribusi median dari `days_employed` berdasarkan parameter yang Anda identifikasi\n",
    "factors_list = ['education', 'income_type', 'children', 'family_status', 'age_group']\n",
    "\n",
    "for factor in factors_list:\n",
    "        print(data_no_na.groupby(factor)['days_employed'].median().reset_index())\n",
    "        print()\n"
   ]
  },
  {
   "cell_type": "markdown",
   "metadata": {},
   "source": [
    "Median per kelompok `income_type` akan digunakan untuk menggantikan nilai kosong karena data memiliki *outlier* dan karena `income_type` adalah kelompok yang paling representatif."
   ]
  },
  {
   "cell_type": "code",
   "execution_count": 59,
   "metadata": {},
   "outputs": [],
   "source": [
    "# Mari tulis fungsi yang menghitung rata-rata atau median (tergantung keputusan Anda) berdasarkan parameter yang Anda identifikasi\n",
    "# Sudah didefinisikan di atas."
   ]
  },
  {
   "cell_type": "code",
   "execution_count": 60,
   "metadata": {},
   "outputs": [],
   "source": [
    "# Terapkan fungsi ke days_employed\n",
    "data = fill_missing_values(data, 'income_type', 'days_employed')\n"
   ]
  },
  {
   "cell_type": "code",
   "execution_count": 61,
   "metadata": {},
   "outputs": [
    {
     "data": {
      "text/html": [
       "<div>\n",
       "<style scoped>\n",
       "    .dataframe tbody tr th:only-of-type {\n",
       "        vertical-align: middle;\n",
       "    }\n",
       "\n",
       "    .dataframe tbody tr th {\n",
       "        vertical-align: top;\n",
       "    }\n",
       "\n",
       "    .dataframe thead th {\n",
       "        text-align: right;\n",
       "    }\n",
       "</style>\n",
       "<table border=\"1\" class=\"dataframe\">\n",
       "  <thead>\n",
       "    <tr style=\"text-align: right;\">\n",
       "      <th></th>\n",
       "      <th>income_type</th>\n",
       "      <th>days_employed</th>\n",
       "    </tr>\n",
       "  </thead>\n",
       "  <tbody>\n",
       "    <tr>\n",
       "      <th>0</th>\n",
       "      <td>True</td>\n",
       "      <td>True</td>\n",
       "    </tr>\n",
       "    <tr>\n",
       "      <th>1</th>\n",
       "      <td>True</td>\n",
       "      <td>True</td>\n",
       "    </tr>\n",
       "    <tr>\n",
       "      <th>2</th>\n",
       "      <td>True</td>\n",
       "      <td>True</td>\n",
       "    </tr>\n",
       "    <tr>\n",
       "      <th>3</th>\n",
       "      <td>True</td>\n",
       "      <td>True</td>\n",
       "    </tr>\n",
       "    <tr>\n",
       "      <th>4</th>\n",
       "      <td>True</td>\n",
       "      <td>True</td>\n",
       "    </tr>\n",
       "    <tr>\n",
       "      <th>5</th>\n",
       "      <td>True</td>\n",
       "      <td>True</td>\n",
       "    </tr>\n",
       "    <tr>\n",
       "      <th>6</th>\n",
       "      <td>True</td>\n",
       "      <td>True</td>\n",
       "    </tr>\n",
       "    <tr>\n",
       "      <th>7</th>\n",
       "      <td>True</td>\n",
       "      <td>True</td>\n",
       "    </tr>\n",
       "  </tbody>\n",
       "</table>\n",
       "</div>"
      ],
      "text/plain": [
       "   income_type  days_employed\n",
       "0         True           True\n",
       "1         True           True\n",
       "2         True           True\n",
       "3         True           True\n",
       "4         True           True\n",
       "5         True           True\n",
       "6         True           True\n",
       "7         True           True"
      ]
     },
     "execution_count": 61,
     "metadata": {},
     "output_type": "execute_result"
    }
   ],
   "source": [
    "# Periksa apakah kita mendapatkan kesalahan\n",
    "# Karena nilai kosong diisi menggunakan median,\n",
    "# nilai median di data tanpa NaN dan data yang telah diisi akan sama.\n",
    "# Jika tidak ada kesalahan, kode di bawah akan bernilai True:\n",
    "days_employed_median_old = data_no_na.groupby('income_type')['days_employed'].median().reset_index()\n",
    "days_employed_median_new = data.groupby('income_type')['days_employed'].median().reset_index()\n",
    "days_employed_median_old == days_employed_median_new\n"
   ]
  },
  {
   "cell_type": "markdown",
   "metadata": {},
   "source": [
    "Memeriksa keutuhan jumlah data:"
   ]
  },
  {
   "cell_type": "code",
   "execution_count": 62,
   "metadata": {},
   "outputs": [
    {
     "data": {
      "text/plain": [
       "True"
      ]
     },
     "execution_count": 62,
     "metadata": {},
     "output_type": "execute_result"
    }
   ],
   "source": [
    "# Banyaknya nilai di `total_income` sama dengan di kolom lain/seluruh dataframe:\n",
    "len(data['days_employed']) == len(data)\n"
   ]
  },
  {
   "cell_type": "code",
   "execution_count": 63,
   "metadata": {},
   "outputs": [
    {
     "name": "stdout",
     "output_type": "stream",
     "text": [
      "<class 'pandas.core.frame.DataFrame'>\n",
      "Int64Index: 21454 entries, 0 to 21524\n",
      "Data columns (total 13 columns):\n",
      " #   Column            Non-Null Count  Dtype  \n",
      "---  ------            --------------  -----  \n",
      " 0   children          21454 non-null  int64  \n",
      " 1   days_employed     21454 non-null  float64\n",
      " 2   dob_years         21454 non-null  int64  \n",
      " 3   education         21454 non-null  object \n",
      " 4   education_id      21454 non-null  int64  \n",
      " 5   family_status     21454 non-null  object \n",
      " 6   family_status_id  21454 non-null  int64  \n",
      " 7   gender            21454 non-null  object \n",
      " 8   income_type       21454 non-null  object \n",
      " 9   debt              21454 non-null  int64  \n",
      " 10  total_income      21454 non-null  float64\n",
      " 11  purpose           21454 non-null  object \n",
      " 12  age_group         21454 non-null  object \n",
      "dtypes: float64(2), int64(5), object(6)\n",
      "memory usage: 2.3+ MB\n"
     ]
    }
   ],
   "source": [
    "# Periksa entri di semua kolom - pastikan kita memperbaiki semua nilai yang hilang\n",
    "data.info()\n"
   ]
  },
  {
   "cell_type": "markdown",
   "metadata": {},
   "source": [
    "## Pengkategorian Data\n",
    "\n",
    "Untuk memudahkan analisis dan pengambilan keputusan, kolom `purpose` perlu dikategorisasi karena memiliki isi yang disampaikan dengan nilai unik walau makna umumnya sama. \n",
    "\n",
    "`total_income` perlu dikategorikan karena mengandung banyak nilai unik."
   ]
  },
  {
   "cell_type": "code",
   "execution_count": 64,
   "metadata": {
    "scrolled": true
   },
   "outputs": [
    {
     "data": {
      "text/plain": [
       "0          purchase of the house\n",
       "1                   car purchase\n",
       "2          purchase of the house\n",
       "3        supplementary education\n",
       "4              to have a wedding\n",
       "                  ...           \n",
       "21520       housing transactions\n",
       "21521          purchase of a car\n",
       "21522                   property\n",
       "21523          buying my own car\n",
       "21524               to buy a car\n",
       "Name: purpose, Length: 21454, dtype: object"
      ]
     },
     "execution_count": 64,
     "metadata": {},
     "output_type": "execute_result"
    }
   ],
   "source": [
    "# Tampilkan nilai data yang Anda pilih untuk pengkategorian\n",
    "data['purpose']\n"
   ]
  },
  {
   "cell_type": "markdown",
   "metadata": {},
   "source": [
    "Memeriksa nilai unik:"
   ]
  },
  {
   "cell_type": "code",
   "execution_count": 65,
   "metadata": {
    "scrolled": true
   },
   "outputs": [
    {
     "data": {
      "text/plain": [
       "wedding ceremony                            791\n",
       "having a wedding                            768\n",
       "to have a wedding                           765\n",
       "real estate transactions                    675\n",
       "buy commercial real estate                  661\n",
       "housing transactions                        652\n",
       "buying property for renting out             651\n",
       "transactions with commercial real estate    650\n",
       "housing                                     646\n",
       "purchase of the house                       646\n",
       "purchase of the house for my family         638\n",
       "construction of own property                635\n",
       "property                                    633\n",
       "transactions with my real estate            627\n",
       "building a real estate                      624\n",
       "buy real estate                             621\n",
       "purchase of my own house                    620\n",
       "building a property                         619\n",
       "housing renovation                          607\n",
       "buy residential real estate                 606\n",
       "buying my own car                           505\n",
       "going to university                         496\n",
       "car                                         494\n",
       "second-hand car purchase                    486\n",
       "buying a second-hand car                    478\n",
       "cars                                        478\n",
       "to own a car                                478\n",
       "to buy a car                                471\n",
       "car purchase                                461\n",
       "supplementary education                     460\n",
       "purchase of a car                           455\n",
       "university education                        452\n",
       "education                                   447\n",
       "to get a supplementary education            446\n",
       "getting an education                        442\n",
       "profile education                           436\n",
       "getting higher education                    426\n",
       "to become educated                          408\n",
       "Name: purpose, dtype: int64"
      ]
     },
     "execution_count": 65,
     "metadata": {},
     "output_type": "execute_result"
    }
   ],
   "source": [
    "# Periksa nilai unik\n",
    "# Nilai unik ditampilkan menggunakan value_counts() agar distribusinya terlihat juga\n",
    "data['purpose'].value_counts()"
   ]
  },
  {
   "cell_type": "markdown",
   "metadata": {},
   "source": [
    "Nilai di kolom `purpose` dapat dikelompokkan menjadi beberapa kategori umum berikut:\n",
    "1. Wedding\n",
    "1. Real estate\n",
    "1. Education\n",
    "1. Car\n"
   ]
  },
  {
   "cell_type": "code",
   "execution_count": 66,
   "metadata": {},
   "outputs": [],
   "source": [
    "# Mari kita tulis sebuah fungsi untuk mengategorikan data berdasarkan topik umum\n",
    "real_estate_keywords = ['real estate', 'hous', 'property']\n",
    "education_keywords = ['educat', 'university']\n",
    "\n",
    "def group_purpose(purpose_column):\n",
    "    \"\"\"\n",
    "    Mengelompokkan nilai di `purpose_column` ke kategori\n",
    "    'wedding', 'education', 'car', 'real estate', atau 'other'\n",
    "    berdasarkan kata kunci di string nilai `purpose_column`.\n",
    "    \"\"\"\n",
    "    try:\n",
    "        if 'wedding' in purpose_column:\n",
    "            return 'wedding'\n",
    "        if 'car' in purpose_column:\n",
    "            return 'car'\n",
    "        for keyword in education_keywords:\n",
    "            if keyword in purpose_column:\n",
    "                return 'education'\n",
    "        for keyword in real_estate_keywords:\n",
    "            if keyword in purpose_column:\n",
    "                return 'real estate'\n",
    "    except:\n",
    "        return 'other'\n"
   ]
  },
  {
   "cell_type": "code",
   "execution_count": 67,
   "metadata": {},
   "outputs": [
    {
     "data": {
      "text/plain": [
       "real estate    10811\n",
       "car             4306\n",
       "education       4013\n",
       "wedding         2324\n",
       "Name: purpose_category, dtype: int64"
      ]
     },
     "execution_count": 67,
     "metadata": {},
     "output_type": "execute_result"
    }
   ],
   "source": [
    "# Buat kolom yang memuat kategori dan hitung nilainya\n",
    "data['purpose_category'] = data['purpose'].apply(group_purpose)\n",
    "data['purpose_category'].value_counts()\n"
   ]
  },
  {
   "cell_type": "markdown",
   "metadata": {},
   "source": [
    "Mengategorikan pendapatan:"
   ]
  },
  {
   "cell_type": "code",
   "execution_count": 68,
   "metadata": {},
   "outputs": [
    {
     "data": {
      "text/plain": [
       "0        40620.102\n",
       "1        17932.802\n",
       "2        23341.752\n",
       "3        42820.568\n",
       "4        25378.572\n",
       "           ...    \n",
       "21520    35966.698\n",
       "21521    24959.969\n",
       "21522    14347.610\n",
       "21523    39054.888\n",
       "21524    13127.587\n",
       "Name: total_income, Length: 21454, dtype: float64"
      ]
     },
     "execution_count": 68,
     "metadata": {},
     "output_type": "execute_result"
    }
   ],
   "source": [
    "# Lihat semua data numerik di kolom yang Anda pilih untuk pengkategorian\n",
    "data['total_income']"
   ]
  },
  {
   "cell_type": "code",
   "execution_count": 69,
   "metadata": {},
   "outputs": [
    {
     "name": "stdout",
     "output_type": "stream",
     "text": [
      "3306.762\n",
      "362496.645\n",
      "26451.212928894376\n",
      "22815.103499999997\n"
     ]
    }
   ],
   "source": [
    "# Dapatkan kesimpulan statistik untuk kolomnya\n",
    "print(data['total_income'].min())\n",
    "print(data['total_income'].max())\n",
    "print(data['total_income'].mean())\n",
    "print(data['total_income'].median())\n"
   ]
  },
  {
   "cell_type": "markdown",
   "metadata": {},
   "source": [
    "Nasabah akan dibagi ke dalam 5 kategori pendapatan dengan prinsip *income quintile grouping* yang membagi populasi data menjadi 5 kategori, masing-masing berisi 20% populasi yang memiliki tingkat pendapatan sejenis:\n",
    "1. Poor: 20% populasi dengan pendapatan terendah\n",
    "1. Lower middle-class\n",
    "1. Middle-class\n",
    "1. Upper middle-class\n",
    "1. Rich: 20% populasi dengan pendapatan tertinggi\n",
    "\n",
    "*Income quintile groups* digunakan karena dapat mengelompokkan nasabah ke dalam grup yang objektif dan cukup representatif. Selain itu, *income quintile groups* juga umum digunakan untuk survei pendapatan skala besar di banyak negara.\n"
   ]
  },
  {
   "cell_type": "code",
   "execution_count": 70,
   "metadata": {},
   "outputs": [
    {
     "data": {
      "text/plain": [
       "14585    poor\n",
       "13006    poor\n",
       "16174    poor\n",
       "1598     poor\n",
       "14276    poor\n",
       "         ... \n",
       "17178    rich\n",
       "20809    rich\n",
       "9169     rich\n",
       "19606    rich\n",
       "12412    rich\n",
       "Name: total_income, Length: 21454, dtype: category\n",
       "Categories (5, object): ['poor' < 'lower middle-class' < 'middle-class' < 'upper middle-class' < 'rich']"
      ]
     },
     "execution_count": 70,
     "metadata": {},
     "output_type": "execute_result"
    }
   ],
   "source": [
    "# Buat fungsi yang melakukan pengkategorian menjadi kelompok numerik yang berbeda berdasarkan rentang\n",
    "data_income_sorted = data['total_income'].sort_values(ascending=True)\n",
    "data_income_categories = pd.qcut(data_income_sorted, 5, labels=['poor', 'lower middle-class', 'middle-class', 'upper middle-class', 'rich'])\n",
    "data_income_categories\n"
   ]
  },
  {
   "cell_type": "code",
   "execution_count": 71,
   "metadata": {},
   "outputs": [],
   "source": [
    "# Buat kolom yang memuat kategori\n",
    "data['income_category'] = data_income_categories\n"
   ]
  },
  {
   "cell_type": "code",
   "execution_count": 72,
   "metadata": {
    "scrolled": true
   },
   "outputs": [
    {
     "data": {
      "text/plain": [
       "poor                  4291\n",
       "lower middle-class    4291\n",
       "upper middle-class    4291\n",
       "rich                  4291\n",
       "middle-class          4290\n",
       "Name: income_category, dtype: int64"
      ]
     },
     "execution_count": 72,
     "metadata": {},
     "output_type": "execute_result"
    }
   ],
   "source": [
    "# Hitung setiap nilai kategori untuk melihat pendistribusiannya\n",
    "data['income_category'].value_counts()\n"
   ]
  },
  {
   "cell_type": "markdown",
   "metadata": {},
   "source": [
    "## Memeriksa hipotesis\n"
   ]
  },
  {
   "cell_type": "markdown",
   "metadata": {},
   "source": [
    "**Apakah terdapat korelasi antara memiliki anak dengan melakukan pelunasan tepat waktu?**"
   ]
  },
  {
   "cell_type": "code",
   "execution_count": 73,
   "metadata": {},
   "outputs": [],
   "source": [
    "data_debt = data[data['debt'] == 1]\n"
   ]
  },
  {
   "cell_type": "code",
   "execution_count": 74,
   "metadata": {},
   "outputs": [
    {
     "name": "stdout",
     "output_type": "stream",
     "text": [
      "Distribusi jumlah anak:\n",
      "0    14214\n",
      "1     4808\n",
      "2     2052\n",
      "3      330\n",
      "4       41\n",
      "5        9\n",
      "Name: children, dtype: int64\n",
      "\n",
      "Distribusi pelunasan pinjaman:\n",
      "0    19713\n",
      "1     1741\n",
      "Name: debt, dtype: int64\n"
     ]
    },
    {
     "data": {
      "text/html": [
       "<div>\n",
       "<style scoped>\n",
       "    .dataframe tbody tr th:only-of-type {\n",
       "        vertical-align: middle;\n",
       "    }\n",
       "\n",
       "    .dataframe tbody tr th {\n",
       "        vertical-align: top;\n",
       "    }\n",
       "\n",
       "    .dataframe thead th {\n",
       "        text-align: right;\n",
       "    }\n",
       "</style>\n",
       "<table border=\"1\" class=\"dataframe\">\n",
       "  <thead>\n",
       "    <tr style=\"text-align: right;\">\n",
       "      <th></th>\n",
       "      <th>debt</th>\n",
       "      <th>percentage</th>\n",
       "    </tr>\n",
       "  </thead>\n",
       "  <tbody>\n",
       "    <tr>\n",
       "      <th>0</th>\n",
       "      <td>1072</td>\n",
       "      <td>61.57%</td>\n",
       "    </tr>\n",
       "    <tr>\n",
       "      <th>1</th>\n",
       "      <td>444</td>\n",
       "      <td>25.5%</td>\n",
       "    </tr>\n",
       "    <tr>\n",
       "      <th>2</th>\n",
       "      <td>194</td>\n",
       "      <td>11.14%</td>\n",
       "    </tr>\n",
       "    <tr>\n",
       "      <th>3</th>\n",
       "      <td>27</td>\n",
       "      <td>1.55%</td>\n",
       "    </tr>\n",
       "    <tr>\n",
       "      <th>4</th>\n",
       "      <td>4</td>\n",
       "      <td>0.23%</td>\n",
       "    </tr>\n",
       "  </tbody>\n",
       "</table>\n",
       "</div>"
      ],
      "text/plain": [
       "   debt percentage\n",
       "0  1072     61.57%\n",
       "1   444      25.5%\n",
       "2   194     11.14%\n",
       "3    27      1.55%\n",
       "4     4      0.23%"
      ]
     },
     "execution_count": 74,
     "metadata": {},
     "output_type": "execute_result"
    }
   ],
   "source": [
    "# Periksa data anak dan data pelunasan tepat waktu\n",
    "print('Distribusi jumlah anak:')\n",
    "print(data['children'].value_counts())\n",
    "print()\n",
    "print('Distribusi pelunasan pinjaman:')\n",
    "print(data['debt'].value_counts())\n",
    "\n",
    "# Hitung gagal bayar berdasarkan jumlah anak\n",
    "debt_by_children = data[data['debt'] == 1]['children'].value_counts()\n",
    "debt_by_children_percentage = ((debt_by_children / (data[data['debt'] == 1]['debt'].sum())) * 100).round(2).astype(str) + '%'\n",
    "debt_by_children_df = pd.DataFrame(data=[debt_by_children, debt_by_children_percentage], index=['debt', 'percentage'])\n",
    "debt_by_children_df = debt_by_children_df.transpose()\n",
    "debt_by_children_df\n"
   ]
  },
  {
   "cell_type": "markdown",
   "metadata": {},
   "source": [
    "**Kesimpulan**\n",
    "\n",
    "Jumlah anak memiliki korelasi negatif terhadap ketepatan waktu pelunasan pinjaman. Hal ini berarti bahwa, berlawanan dengan hipotesis, peningkatan dalam jumlah anak berhubungan dengan menurunnya kemungkinan terlambat melunasi pinjaman. Dugaan penyebabnya adalah nasabah dengan lebih banyak anak lebih mampu mengatur keuangan dibanding nasabah ber-anak lebih sedikit yang dapat lebih leluasa menggunakan uang."
   ]
  },
  {
   "cell_type": "markdown",
   "metadata": {},
   "source": [
    "**Apakah terdapat korelasi antara status keluarga dengan pelunasan tepat waktu?**"
   ]
  },
  {
   "cell_type": "code",
   "execution_count": 75,
   "metadata": {},
   "outputs": [
    {
     "name": "stdout",
     "output_type": "stream",
     "text": [
      "Distribusi status pernikahan:\n",
      "married              12339\n",
      "civil partnership     4151\n",
      "unmarried             2810\n",
      "divorced              1195\n",
      "widow / widower        959\n",
      "Name: family_status, dtype: int64\n",
      "\n",
      "Distribusi pelunasan pinjaman:\n",
      "0    19713\n",
      "1     1741\n",
      "Name: debt, dtype: int64\n"
     ]
    },
    {
     "data": {
      "text/html": [
       "<div>\n",
       "<style scoped>\n",
       "    .dataframe tbody tr th:only-of-type {\n",
       "        vertical-align: middle;\n",
       "    }\n",
       "\n",
       "    .dataframe tbody tr th {\n",
       "        vertical-align: top;\n",
       "    }\n",
       "\n",
       "    .dataframe thead th {\n",
       "        text-align: right;\n",
       "    }\n",
       "</style>\n",
       "<table border=\"1\" class=\"dataframe\">\n",
       "  <thead>\n",
       "    <tr style=\"text-align: right;\">\n",
       "      <th></th>\n",
       "      <th>debt</th>\n",
       "      <th>percentage</th>\n",
       "    </tr>\n",
       "  </thead>\n",
       "  <tbody>\n",
       "    <tr>\n",
       "      <th>married</th>\n",
       "      <td>931</td>\n",
       "      <td>53.48%</td>\n",
       "    </tr>\n",
       "    <tr>\n",
       "      <th>civil partnership</th>\n",
       "      <td>388</td>\n",
       "      <td>22.29%</td>\n",
       "    </tr>\n",
       "    <tr>\n",
       "      <th>unmarried</th>\n",
       "      <td>274</td>\n",
       "      <td>15.74%</td>\n",
       "    </tr>\n",
       "    <tr>\n",
       "      <th>divorced</th>\n",
       "      <td>85</td>\n",
       "      <td>4.88%</td>\n",
       "    </tr>\n",
       "    <tr>\n",
       "      <th>widow / widower</th>\n",
       "      <td>63</td>\n",
       "      <td>3.62%</td>\n",
       "    </tr>\n",
       "  </tbody>\n",
       "</table>\n",
       "</div>"
      ],
      "text/plain": [
       "                  debt percentage\n",
       "married            931     53.48%\n",
       "civil partnership  388     22.29%\n",
       "unmarried          274     15.74%\n",
       "divorced            85      4.88%\n",
       "widow / widower     63      3.62%"
      ]
     },
     "execution_count": 75,
     "metadata": {},
     "output_type": "execute_result"
    }
   ],
   "source": [
    "# Periksa data status keluarga dan pelunasan tepat waktu\n",
    "print('Distribusi status pernikahan:')\n",
    "print(data['family_status'].value_counts())\n",
    "print()\n",
    "print('Distribusi pelunasan pinjaman:')\n",
    "print(data['debt'].value_counts())\n",
    "\n",
    "# Hitung gagal bayar berdasarkan status keluarga\n",
    "debt_by_family_status = data[data['debt'] == 1]['family_status'].value_counts()\n",
    "debt_by_family_status_percentage = ((debt_by_family_status / (data[data['debt'] == 1]['debt'].sum())) * 100).round(2).astype(str) + '%'\n",
    "debt_by_family_status_df = pd.DataFrame(data=[debt_by_family_status, debt_by_family_status_percentage], index=['debt', 'percentage'])\n",
    "debt_by_family_status_df = debt_by_family_status_df.transpose()\n",
    "debt_by_family_status_df\n"
   ]
  },
  {
   "cell_type": "markdown",
   "metadata": {},
   "source": [
    "**Kesimpulan**\n",
    "\n",
    "Ada hubungan antara status pernikahan dengan ketepatan waktu melunasi utang. Dapat diamati bahwa lebih banyak nasabah yang terlambat melunasi pinjaman memiliki pasangan (berstatus `married` atau berada dalam `civil partnership`). Hal ini sesuai dengan hipotesis. Berbeda dengan anak-anak sebagai tanggungan, pasangan mungkin memiliki lebih banyak kebebasan dalam menggunakan uang bersama, memungkinkan terjadinya keterlambatan dalam melunasi pinjaman.\n"
   ]
  },
  {
   "cell_type": "markdown",
   "metadata": {},
   "source": [
    "**Apakah terdapat korelasi antara tingkat pendapatan dengan membayar kembali tepat waktu?**"
   ]
  },
  {
   "cell_type": "code",
   "execution_count": 76,
   "metadata": {},
   "outputs": [
    {
     "name": "stdout",
     "output_type": "stream",
     "text": [
      "Distribusi kelompok pendapatan:\n",
      "poor                  4291\n",
      "lower middle-class    4291\n",
      "upper middle-class    4291\n",
      "rich                  4291\n",
      "middle-class          4290\n",
      "Name: income_category, dtype: int64\n",
      "\n",
      "Distribusi pelunasan pinjaman:\n",
      "0    19713\n",
      "1     1741\n",
      "Name: debt, dtype: int64\n"
     ]
    },
    {
     "data": {
      "text/html": [
       "<div>\n",
       "<style scoped>\n",
       "    .dataframe tbody tr th:only-of-type {\n",
       "        vertical-align: middle;\n",
       "    }\n",
       "\n",
       "    .dataframe tbody tr th {\n",
       "        vertical-align: top;\n",
       "    }\n",
       "\n",
       "    .dataframe thead th {\n",
       "        text-align: right;\n",
       "    }\n",
       "</style>\n",
       "<table border=\"1\" class=\"dataframe\">\n",
       "  <thead>\n",
       "    <tr style=\"text-align: right;\">\n",
       "      <th></th>\n",
       "      <th>debt</th>\n",
       "      <th>percentage</th>\n",
       "    </tr>\n",
       "  </thead>\n",
       "  <tbody>\n",
       "    <tr>\n",
       "      <th>middle-class</th>\n",
       "      <td>375</td>\n",
       "      <td>21.54%</td>\n",
       "    </tr>\n",
       "    <tr>\n",
       "      <th>lower middle-class</th>\n",
       "      <td>361</td>\n",
       "      <td>20.74%</td>\n",
       "    </tr>\n",
       "    <tr>\n",
       "      <th>upper middle-class</th>\n",
       "      <td>361</td>\n",
       "      <td>20.74%</td>\n",
       "    </tr>\n",
       "    <tr>\n",
       "      <th>poor</th>\n",
       "      <td>344</td>\n",
       "      <td>19.76%</td>\n",
       "    </tr>\n",
       "    <tr>\n",
       "      <th>rich</th>\n",
       "      <td>300</td>\n",
       "      <td>17.23%</td>\n",
       "    </tr>\n",
       "  </tbody>\n",
       "</table>\n",
       "</div>"
      ],
      "text/plain": [
       "                   debt percentage\n",
       "middle-class        375     21.54%\n",
       "lower middle-class  361     20.74%\n",
       "upper middle-class  361     20.74%\n",
       "poor                344     19.76%\n",
       "rich                300     17.23%"
      ]
     },
     "execution_count": 76,
     "metadata": {},
     "output_type": "execute_result"
    }
   ],
   "source": [
    "# Periksa data tingkat pendapatan dan pelunasan tepat waktu\n",
    "print('Distribusi kelompok pendapatan:')\n",
    "print(data['income_category'].value_counts())\n",
    "print()\n",
    "print('Distribusi pelunasan pinjaman:')\n",
    "print(data['debt'].value_counts())\n",
    "\n",
    "# Hitung gagal bayar berdasarkan tingkat pendapatan\n",
    "debt_by_income_category = data[data['debt'] == 1]['income_category'].value_counts()\n",
    "debt_by_income_category_percentage = ((debt_by_income_category / (data[data['debt'] == 1]['debt'].sum())) * 100).round(2).astype(str) + '%'\n",
    "debt_by_income_category_df = pd.DataFrame(data=[debt_by_income_category, debt_by_income_category_percentage], index=['debt', 'percentage'])\n",
    "debt_by_income_category_df = debt_by_income_category_df.transpose()\n",
    "debt_by_income_category_df\n"
   ]
  },
  {
   "cell_type": "markdown",
   "metadata": {},
   "source": [
    "**Kesimpulan**\n",
    "\n",
    "Dapat diamati bahwa ada kaitan di antara tingkat pendapatan nasabah dengan ketepatan waktu pelunasan. Sesuai hipotesis, dari seluruh nasabah di data, nasabah yang berada di *quintile* teratas (`rich`) memiliki kemungkinan lebih kecil untuk terlambat melunasi pinjaman. Persebaran keterlambatan di *quintile* lain tidak terlalu berbeda jauh."
   ]
  },
  {
   "cell_type": "markdown",
   "metadata": {},
   "source": [
    "**Bagaimana tujuan kredit memengaruhi tingkat gagal bayar?**"
   ]
  },
  {
   "cell_type": "code",
   "execution_count": 77,
   "metadata": {},
   "outputs": [
    {
     "data": {
      "text/html": [
       "<div>\n",
       "<style scoped>\n",
       "    .dataframe tbody tr th:only-of-type {\n",
       "        vertical-align: middle;\n",
       "    }\n",
       "\n",
       "    .dataframe tbody tr th {\n",
       "        vertical-align: top;\n",
       "    }\n",
       "\n",
       "    .dataframe thead th {\n",
       "        text-align: right;\n",
       "    }\n",
       "</style>\n",
       "<table border=\"1\" class=\"dataframe\">\n",
       "  <thead>\n",
       "    <tr style=\"text-align: right;\">\n",
       "      <th></th>\n",
       "      <th>debt</th>\n",
       "      <th>percentage</th>\n",
       "    </tr>\n",
       "  </thead>\n",
       "  <tbody>\n",
       "    <tr>\n",
       "      <th>real estate</th>\n",
       "      <td>782</td>\n",
       "      <td>44.92%</td>\n",
       "    </tr>\n",
       "    <tr>\n",
       "      <th>car</th>\n",
       "      <td>403</td>\n",
       "      <td>23.15%</td>\n",
       "    </tr>\n",
       "    <tr>\n",
       "      <th>education</th>\n",
       "      <td>370</td>\n",
       "      <td>21.25%</td>\n",
       "    </tr>\n",
       "    <tr>\n",
       "      <th>wedding</th>\n",
       "      <td>186</td>\n",
       "      <td>10.68%</td>\n",
       "    </tr>\n",
       "  </tbody>\n",
       "</table>\n",
       "</div>"
      ],
      "text/plain": [
       "            debt percentage\n",
       "real estate  782     44.92%\n",
       "car          403     23.15%\n",
       "education    370     21.25%\n",
       "wedding      186     10.68%"
      ]
     },
     "execution_count": 77,
     "metadata": {},
     "output_type": "execute_result"
    }
   ],
   "source": [
    "# Periksa persentase tingkat gagal bayar untuk setiap tujuan kredit dan lakukan penganalisisan\n",
    "debt_by_purpose_category = data[data['debt'] == 1]['purpose_category'].value_counts()\n",
    "debt_by_purpose_category_percentage = ((debt_by_purpose_category / (data[data['debt'] == 1]['debt'].sum())) * 100).round(2).astype(str) + '%'\n",
    "debt_by_purpose_category_df = pd.DataFrame(data=[debt_by_purpose_category, debt_by_purpose_category_percentage], index=['debt', 'percentage'])\n",
    "debt_by_purpose_category_df = debt_by_purpose_category_df.transpose()\n",
    "debt_by_purpose_category_df\n"
   ]
  },
  {
   "cell_type": "markdown",
   "metadata": {},
   "source": [
    "**Kesimpulan**\n",
    "\n",
    "Sesuai dengan hipotesis, tujuan memiliki pengaruh pada ketepatan waktu pelunasan pinjaman. Dari empat kategori tujuan yang ada di data, nasabah yang meminjam untuk tujuan material (properti dan mobil) memiliki tingkat keterlambatan paling tinggi, sementara mereka yang meminjam untuk tujuan nonmaterial (pendidikan dan pernikahan) menduduki peringkat keterlambatan lebih rendah. \n"
   ]
  },
  {
   "cell_type": "markdown",
   "metadata": {},
   "source": [
    "# Kesimpulan umum \n",
    "\n",
    "Laporan telah diselesaikan dengan penemuan sbb.:\n",
    "1. Nasabah yang memiliki banyak anak berisiko lebih rendah untuk terlambat melunasi pinjaman dibanding nasabah yang memiliki sedikit anak.\n",
    "1. Nasabah yang memiliki pasangan berisiko lebih tinggi untuk terlambat melunasi pinjaman jika dibandingkan dengan nasabah yang tidak memiliki pasangan (karena belum menikah, sudah bercerai, atau pasangannya sudah meninggal).\n",
    "1. Nasabah dengan penghasilan tinggi berisiko lebih rendah untuk terlambat melunasi pinjaman jika dibandingkan dengan nasabah yang berpenghasilan menengah atau rendah.\n",
    "1. Nasabah yang meminjam untuk tujuan material/barang berisiko lebih tinggi untuk terlambat melunasi pinjaman jika dibandingkan dengan nasabah yang meminjam untuk tujuan nonmaterial.\n",
    "\n",
    "Kesimpulan di atas dapat dimanfaatkan sebagai dasar pertimbangan saat menentukan *credit scoring* nasabah.\n",
    "\n",
    "Untuk mendapatkan kesimpulan tsb., analisis menggunakan data nasabah yang terdiri dari 12 jenis informasi:\n",
    "- `children` - jumlah anak dalam keluarga\n",
    "- `days_employed` - pengalaman kerja nasabah dalam hari\n",
    "- `dob_years` - usia nasabah dalam tahun\n",
    "- `education` - tingkat pendidikan nasabah\n",
    "- `education_id` - pengidentifikasi untuk tingkat pendidikan nasabah\n",
    "- `family_status` - pengidentifikasi untuk status perkawinan nasabah\n",
    "- `family_status_id` - tanda pengenal status perkawinan\n",
    "- `gender` - jenis kelamin nasabah\n",
    "- `income_type` - jenis pekerjaan\n",
    "- `debt` - apakah nasabah memiliki hutang pembayaran pinjaman\n",
    "- `total_income` - pendapatan bulanan\n",
    "- `purpose` - tujuan mendapatkan pinjaman.\n",
    "\n",
    "Data awal terdiri dari 21.525 baris. Dari 21.525 baris data dalam 12 kolom, terdapat beberapa masalah berupa nilai yang hilang (*missing values*) atau nilai yang tidak mungkin (*impossible values*):\n",
    "1. 12 baris memiliki nilai jumlah anak negatif (`-1`) di kolom `children`, dan 76 baris memiliki jumlah anak yang diragukan (`20`).\n",
    "1. Seluruh kolom `days_employed` berisi nilai yang tidak mungkin (seperti jumlah hari kerja negatif atau melebihi usia nasabah), dan 2.174 baris memiliki nilai `NaN` di kolom `days_employed` dan `total_income`.\n",
    "1. 101 baris memiliki nilai umur `0` di `dob_years`.\n",
    "1. 71 baris adalah duplikat.\n",
    "\n",
    "Data dibersihkan dari masalah di atas dengan cara berikut:\n",
    "1. Mengganti nilai `-1` dan `20` di kolom anak dengan nilai rata-rata jumlah anak seluruh nasabah (`0`).\n",
    "1. Mengganti nilai yang hilang di kolom `days_employed` dan `total_income` dengan median per kelompok pekerjaan (`income_type`) nasabah.\n",
    "1. Mengganti nilai `0` di kolom usia dengan rata-rata usia nasabah.\n",
    "1. Menghapus seluruh nilai duplikat, mengurangi ukuran data menjadi 21.454 baris.\n",
    "\n",
    "Seluruh masalah dalam data sangat mungkin disebabkan oleh kesalahan dalam pengumpulan atau penyimpanan data. Untuk mencegah terulangnya masalah ini, prosedur pengumpulan data dan kualitas penyimpanan data perlu dipastikan.\n",
    "\n",
    "Setelah data dibersihkan, analisis dilakukan dengan membagi data menjadi beberapa kategori berdasarkan faktor-faktor dugaan, lalu mengamati persebarannya.\n"
   ]
  }
 ],
 "metadata": {
  "ExecuteTimeLog": [
   {
    "duration": 2741,
    "start_time": "2021-10-21T01:08:49.480Z"
   },
   {
    "duration": 52,
    "start_time": "2021-10-21T01:08:53.315Z"
   },
   {
    "duration": 49,
    "start_time": "2021-10-21T01:08:57.432Z"
   },
   {
    "duration": 70,
    "start_time": "2021-10-21T01:09:07.706Z"
   }
  ],
  "kernelspec": {
   "display_name": "Python 3 (ipykernel)",
   "language": "python",
   "name": "python3"
  },
  "language_info": {
   "codemirror_mode": {
    "name": "ipython",
    "version": 3
   },
   "file_extension": ".py",
   "mimetype": "text/x-python",
   "name": "python",
   "nbconvert_exporter": "python",
   "pygments_lexer": "ipython3",
   "version": "3.10.7"
  },
  "toc": {
   "base_numbering": 1,
   "nav_menu": {},
   "number_sections": true,
   "sideBar": true,
   "skip_h1_title": true,
   "title_cell": "Table of Contents",
   "title_sidebar": "Contents",
   "toc_cell": false,
   "toc_position": {
    "height": "calc(100% - 180px)",
    "left": "10px",
    "top": "150px",
    "width": "289.433px"
   },
   "toc_section_display": true,
   "toc_window_display": false
  },
  "vscode": {
   "interpreter": {
    "hash": "ef1728426330606e01c1da091626d7dbd7604032247e9790b44969d857c4f729"
   }
  }
 },
 "nbformat": 4,
 "nbformat_minor": 2
}
